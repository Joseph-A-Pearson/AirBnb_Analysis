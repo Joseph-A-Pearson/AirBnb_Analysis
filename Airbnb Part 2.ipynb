{
 "cells": [
  {
   "cell_type": "markdown",
   "metadata": {},
   "source": [
    "# Airbnb reviews"
   ]
  },
  {
   "cell_type": "code",
   "execution_count": 1,
   "metadata": {
    "ExecuteTime": {
     "end_time": "2019-02-13T14:21:54.882854Z",
     "start_time": "2019-02-13T14:21:53.347834Z"
    }
   },
   "outputs": [],
   "source": [
    "import warnings\n",
    "warnings.filterwarnings(\"ignore\", message=\"numpy.dtype size changed\")\n",
    "warnings.filterwarnings(\"ignore\", message=\"numpy.ufunc size changed\")\n",
    "\n",
    "\n",
    "import matplotlib.pyplot as plt\n",
    "import numpy as np\n",
    "import pandas as pd\n",
    "import seaborn as sns\n",
    "\n",
    "\n",
    "plt.style.use('fivethirtyeight')\n",
    "\n",
    "%matplotlib inline\n",
    "%config InlineBackend.figure_format = 'retina'"
   ]
  },
  {
   "cell_type": "code",
   "execution_count": 2,
   "metadata": {
    "ExecuteTime": {
     "end_time": "2019-02-13T14:21:54.892506Z",
     "start_time": "2019-02-13T14:21:54.885907Z"
    }
   },
   "outputs": [],
   "source": [
    "pd.set_option('display.max_rows', 500)\n",
    "pd.set_option('display.max_columns', 500)\n",
    "pd.set_option('display.width', 10000)"
   ]
  },
  {
   "cell_type": "markdown",
   "metadata": {},
   "source": [
    "### import data"
   ]
  },
  {
   "cell_type": "code",
   "execution_count": 3,
   "metadata": {
    "ExecuteTime": {
     "end_time": "2019-02-13T14:21:56.791189Z",
     "start_time": "2019-02-13T14:21:54.896980Z"
    }
   },
   "outputs": [],
   "source": [
    "#Unpack the required csv files from the zip\n",
    "from shutil import unpack_archive\n",
    "unpack_archive('./Capstone_DATA/Berlin/BERLIN_LISTINGS_AND_REVIEWS.zip', './Capstone_DATA/Berlin/')"
   ]
  },
  {
   "cell_type": "code",
   "execution_count": 4,
   "metadata": {
    "ExecuteTime": {
     "end_time": "2019-02-13T14:21:59.471238Z",
     "start_time": "2019-02-13T14:21:56.794179Z"
    }
   },
   "outputs": [],
   "source": [
    "reviews = pd.read_csv('./Capstone_DATA/Berlin/reviews.csv')\n",
    "listings = pd.read_csv('./Capstone_DATA/Berlin/listings.csv')"
   ]
  },
  {
   "cell_type": "code",
   "execution_count": 5,
   "metadata": {
    "ExecuteTime": {
     "end_time": "2019-02-13T14:21:59.741199Z",
     "start_time": "2019-02-13T14:21:59.474813Z"
    }
   },
   "outputs": [],
   "source": [
    "#delete the csv files now they are stored in memory\n",
    "!rm ./Capstone_DATA/Berlin/listings.csv\n",
    "!rm ./Capstone_DATA/Berlin/reviews.csv"
   ]
  },
  {
   "cell_type": "code",
   "execution_count": 6,
   "metadata": {
    "ExecuteTime": {
     "end_time": "2019-02-13T14:21:59.765508Z",
     "start_time": "2019-02-13T14:21:59.746110Z"
    }
   },
   "outputs": [
    {
     "data": {
      "text/html": [
       "<div>\n",
       "<style scoped>\n",
       "    .dataframe tbody tr th:only-of-type {\n",
       "        vertical-align: middle;\n",
       "    }\n",
       "\n",
       "    .dataframe tbody tr th {\n",
       "        vertical-align: top;\n",
       "    }\n",
       "\n",
       "    .dataframe thead th {\n",
       "        text-align: right;\n",
       "    }\n",
       "</style>\n",
       "<table border=\"1\" class=\"dataframe\">\n",
       "  <thead>\n",
       "    <tr style=\"text-align: right;\">\n",
       "      <th></th>\n",
       "      <th>listing_id</th>\n",
       "      <th>id</th>\n",
       "      <th>date</th>\n",
       "      <th>reviewer_id</th>\n",
       "      <th>reviewer_name</th>\n",
       "      <th>comments</th>\n",
       "    </tr>\n",
       "  </thead>\n",
       "  <tbody>\n",
       "    <tr>\n",
       "      <th>0</th>\n",
       "      <td>2015</td>\n",
       "      <td>69544350</td>\n",
       "      <td>2016-04-11</td>\n",
       "      <td>7178145</td>\n",
       "      <td>Rahel</td>\n",
       "      <td>Mein Freund und ich hatten gute gemütliche vie...</td>\n",
       "    </tr>\n",
       "    <tr>\n",
       "      <th>1</th>\n",
       "      <td>2015</td>\n",
       "      <td>69990732</td>\n",
       "      <td>2016-04-15</td>\n",
       "      <td>41944715</td>\n",
       "      <td>Hannah</td>\n",
       "      <td>Jan was very friendly and welcoming host! The ...</td>\n",
       "    </tr>\n",
       "    <tr>\n",
       "      <th>2</th>\n",
       "      <td>2015</td>\n",
       "      <td>71605267</td>\n",
       "      <td>2016-04-26</td>\n",
       "      <td>30048708</td>\n",
       "      <td>Victor</td>\n",
       "      <td>Un appartement tres bien situé dans un quartie...</td>\n",
       "    </tr>\n",
       "    <tr>\n",
       "      <th>3</th>\n",
       "      <td>2015</td>\n",
       "      <td>73819566</td>\n",
       "      <td>2016-05-10</td>\n",
       "      <td>63697857</td>\n",
       "      <td>Judy</td>\n",
       "      <td>It is really nice area, food, park, transport ...</td>\n",
       "    </tr>\n",
       "    <tr>\n",
       "      <th>4</th>\n",
       "      <td>2015</td>\n",
       "      <td>74293504</td>\n",
       "      <td>2016-05-14</td>\n",
       "      <td>10414887</td>\n",
       "      <td>Romina</td>\n",
       "      <td>Buena ubicación, el departamento no está orden...</td>\n",
       "    </tr>\n",
       "  </tbody>\n",
       "</table>\n",
       "</div>"
      ],
      "text/plain": [
       "   listing_id        id        date  reviewer_id reviewer_name                                           comments\n",
       "0        2015  69544350  2016-04-11      7178145         Rahel  Mein Freund und ich hatten gute gemütliche vie...\n",
       "1        2015  69990732  2016-04-15     41944715        Hannah  Jan was very friendly and welcoming host! The ...\n",
       "2        2015  71605267  2016-04-26     30048708        Victor  Un appartement tres bien situé dans un quartie...\n",
       "3        2015  73819566  2016-05-10     63697857          Judy  It is really nice area, food, park, transport ...\n",
       "4        2015  74293504  2016-05-14     10414887        Romina  Buena ubicación, el departamento no está orden..."
      ]
     },
     "execution_count": 6,
     "metadata": {},
     "output_type": "execute_result"
    }
   ],
   "source": [
    "reviews.head()"
   ]
  },
  {
   "cell_type": "code",
   "execution_count": 7,
   "metadata": {
    "ExecuteTime": {
     "end_time": "2019-02-13T14:21:59.947492Z",
     "start_time": "2019-02-13T14:21:59.767361Z"
    }
   },
   "outputs": [
    {
     "name": "stdout",
     "output_type": "stream",
     "text": [
      "<class 'pandas.core.frame.DataFrame'>\n",
      "RangeIndex: 401963 entries, 0 to 401962\n",
      "Data columns (total 6 columns):\n",
      "listing_id       401963 non-null int64\n",
      "id               401963 non-null int64\n",
      "date             401963 non-null object\n",
      "reviewer_id      401963 non-null int64\n",
      "reviewer_name    401963 non-null object\n",
      "comments         401467 non-null object\n",
      "dtypes: int64(3), object(3)\n",
      "memory usage: 18.4+ MB\n"
     ]
    }
   ],
   "source": [
    "reviews.info()"
   ]
  },
  {
   "cell_type": "code",
   "execution_count": 8,
   "metadata": {
    "ExecuteTime": {
     "end_time": "2019-02-13T14:21:59.954039Z",
     "start_time": "2019-02-13T14:21:59.950110Z"
    }
   },
   "outputs": [],
   "source": [
    "reviews_data_dict = {\n",
    "        'listing_id'      :'int64. id of the listing the review is associated to' ,\n",
    "        'id'              :'int64. id of the review',\n",
    "        'date'            :'string. Date of the review',\n",
    "        'reviewer_id'     :'int64. unique identifier',\n",
    "        'reviewer_name'   :'String. first name of the reviewer',\n",
    "        'comments'        :'string. contains the text of the review'\n",
    "}"
   ]
  },
  {
   "cell_type": "code",
   "execution_count": 9,
   "metadata": {
    "ExecuteTime": {
     "end_time": "2019-02-13T14:21:59.960490Z",
     "start_time": "2019-02-13T14:21:59.956269Z"
    }
   },
   "outputs": [
    {
     "data": {
      "text/plain": [
       "{'listing_id': 'int64. id of the listing the review is associated to',\n",
       " 'id': 'int64. id of the review',\n",
       " 'date': 'string. Date of the review',\n",
       " 'reviewer_id': 'int64. unique identifier',\n",
       " 'reviewer_name': 'String. first name of the reviewer',\n",
       " 'comments': 'string. contains the text of the review'}"
      ]
     },
     "execution_count": 9,
     "metadata": {},
     "output_type": "execute_result"
    }
   ],
   "source": [
    "reviews_data_dict"
   ]
  },
  {
   "cell_type": "code",
   "execution_count": 10,
   "metadata": {
    "ExecuteTime": {
     "end_time": "2019-02-13T14:21:59.967251Z",
     "start_time": "2019-02-13T14:21:59.962904Z"
    }
   },
   "outputs": [
    {
     "data": {
      "text/plain": [
       "Index(['listing_id', 'id', 'date', 'reviewer_id', 'reviewer_name', 'comments'], dtype='object')"
      ]
     },
     "execution_count": 10,
     "metadata": {},
     "output_type": "execute_result"
    }
   ],
   "source": [
    "reviews.columns"
   ]
  },
  {
   "cell_type": "code",
   "execution_count": 11,
   "metadata": {
    "ExecuteTime": {
     "end_time": "2019-02-13T14:22:00.047645Z",
     "start_time": "2019-02-13T14:21:59.969389Z"
    }
   },
   "outputs": [
    {
     "data": {
      "text/html": [
       "<div>\n",
       "<style scoped>\n",
       "    .dataframe tbody tr th:only-of-type {\n",
       "        vertical-align: middle;\n",
       "    }\n",
       "\n",
       "    .dataframe tbody tr th {\n",
       "        vertical-align: top;\n",
       "    }\n",
       "\n",
       "    .dataframe thead th {\n",
       "        text-align: right;\n",
       "    }\n",
       "</style>\n",
       "<table border=\"1\" class=\"dataframe\">\n",
       "  <thead>\n",
       "    <tr style=\"text-align: right;\">\n",
       "      <th></th>\n",
       "      <th>id</th>\n",
       "      <th>listing_url</th>\n",
       "      <th>scrape_id</th>\n",
       "      <th>last_scraped</th>\n",
       "      <th>name</th>\n",
       "      <th>summary</th>\n",
       "      <th>space</th>\n",
       "      <th>description</th>\n",
       "      <th>experiences_offered</th>\n",
       "      <th>neighborhood_overview</th>\n",
       "      <th>notes</th>\n",
       "      <th>transit</th>\n",
       "      <th>access</th>\n",
       "      <th>interaction</th>\n",
       "      <th>house_rules</th>\n",
       "      <th>thumbnail_url</th>\n",
       "      <th>medium_url</th>\n",
       "      <th>picture_url</th>\n",
       "      <th>xl_picture_url</th>\n",
       "      <th>host_id</th>\n",
       "      <th>host_url</th>\n",
       "      <th>host_name</th>\n",
       "      <th>host_since</th>\n",
       "      <th>host_location</th>\n",
       "      <th>host_about</th>\n",
       "      <th>host_response_time</th>\n",
       "      <th>host_response_rate</th>\n",
       "      <th>host_acceptance_rate</th>\n",
       "      <th>host_is_superhost</th>\n",
       "      <th>host_thumbnail_url</th>\n",
       "      <th>host_picture_url</th>\n",
       "      <th>host_neighbourhood</th>\n",
       "      <th>host_listings_count</th>\n",
       "      <th>host_total_listings_count</th>\n",
       "      <th>host_verifications</th>\n",
       "      <th>host_has_profile_pic</th>\n",
       "      <th>host_identity_verified</th>\n",
       "      <th>street</th>\n",
       "      <th>neighbourhood</th>\n",
       "      <th>neighbourhood_cleansed</th>\n",
       "      <th>neighbourhood_group_cleansed</th>\n",
       "      <th>city</th>\n",
       "      <th>state</th>\n",
       "      <th>zipcode</th>\n",
       "      <th>market</th>\n",
       "      <th>smart_location</th>\n",
       "      <th>country_code</th>\n",
       "      <th>country</th>\n",
       "      <th>latitude</th>\n",
       "      <th>longitude</th>\n",
       "      <th>is_location_exact</th>\n",
       "      <th>property_type</th>\n",
       "      <th>room_type</th>\n",
       "      <th>accommodates</th>\n",
       "      <th>bathrooms</th>\n",
       "      <th>bedrooms</th>\n",
       "      <th>beds</th>\n",
       "      <th>bed_type</th>\n",
       "      <th>amenities</th>\n",
       "      <th>square_feet</th>\n",
       "      <th>price</th>\n",
       "      <th>weekly_price</th>\n",
       "      <th>monthly_price</th>\n",
       "      <th>security_deposit</th>\n",
       "      <th>cleaning_fee</th>\n",
       "      <th>guests_included</th>\n",
       "      <th>extra_people</th>\n",
       "      <th>minimum_nights</th>\n",
       "      <th>maximum_nights</th>\n",
       "      <th>calendar_updated</th>\n",
       "      <th>has_availability</th>\n",
       "      <th>availability_30</th>\n",
       "      <th>availability_60</th>\n",
       "      <th>availability_90</th>\n",
       "      <th>availability_365</th>\n",
       "      <th>calendar_last_scraped</th>\n",
       "      <th>number_of_reviews</th>\n",
       "      <th>first_review</th>\n",
       "      <th>last_review</th>\n",
       "      <th>review_scores_rating</th>\n",
       "      <th>review_scores_accuracy</th>\n",
       "      <th>review_scores_cleanliness</th>\n",
       "      <th>review_scores_checkin</th>\n",
       "      <th>review_scores_communication</th>\n",
       "      <th>review_scores_location</th>\n",
       "      <th>review_scores_value</th>\n",
       "      <th>requires_license</th>\n",
       "      <th>license</th>\n",
       "      <th>jurisdiction_names</th>\n",
       "      <th>instant_bookable</th>\n",
       "      <th>is_business_travel_ready</th>\n",
       "      <th>cancellation_policy</th>\n",
       "      <th>require_guest_profile_picture</th>\n",
       "      <th>require_guest_phone_verification</th>\n",
       "      <th>calculated_host_listings_count</th>\n",
       "      <th>reviews_per_month</th>\n",
       "    </tr>\n",
       "  </thead>\n",
       "  <tbody>\n",
       "    <tr>\n",
       "      <th>0</th>\n",
       "      <td>2015</td>\n",
       "      <td>https://www.airbnb.com/rooms/2015</td>\n",
       "      <td>20181107122246</td>\n",
       "      <td>2018-11-07</td>\n",
       "      <td>Berlin-Mitte Value! Quiet courtyard/very central</td>\n",
       "      <td>Great location!  30 of 75 sq meters. This wood...</td>\n",
       "      <td>A+++ location! This „Einliegerwohnung“ is an e...</td>\n",
       "      <td>Great location!  30 of 75 sq meters. This wood...</td>\n",
       "      <td>none</td>\n",
       "      <td>It is located in the former East Berlin area o...</td>\n",
       "      <td>This is my home, not a hotel. I rent out occas...</td>\n",
       "      <td>Close to U-Bahn U8 and U2 (metro), Trams M12, ...</td>\n",
       "      <td>Simple kitchen/cooking, refrigerator, microwav...</td>\n",
       "      <td>Always available</td>\n",
       "      <td>No parties No events No pets No smoking, not e...</td>\n",
       "      <td>NaN</td>\n",
       "      <td>NaN</td>\n",
       "      <td>https://a0.muscache.com/im/pictures/260fd609-7...</td>\n",
       "      <td>NaN</td>\n",
       "      <td>2217</td>\n",
       "      <td>https://www.airbnb.com/users/show/2217</td>\n",
       "      <td>Ian</td>\n",
       "      <td>2008-08-18</td>\n",
       "      <td>Key Biscayne, Florida, United States</td>\n",
       "      <td>Believe in sharing economy.</td>\n",
       "      <td>within an hour</td>\n",
       "      <td>96%</td>\n",
       "      <td>NaN</td>\n",
       "      <td>t</td>\n",
       "      <td>https://a0.muscache.com/im/pictures/21428a22-4...</td>\n",
       "      <td>https://a0.muscache.com/im/pictures/21428a22-4...</td>\n",
       "      <td>Mitte</td>\n",
       "      <td>4.0</td>\n",
       "      <td>4.0</td>\n",
       "      <td>['email', 'phone', 'reviews', 'jumio', 'offlin...</td>\n",
       "      <td>t</td>\n",
       "      <td>t</td>\n",
       "      <td>Berlin, Berlin, Germany</td>\n",
       "      <td>Mitte</td>\n",
       "      <td>Brunnenstr. Süd</td>\n",
       "      <td>Mitte</td>\n",
       "      <td>Berlin</td>\n",
       "      <td>Berlin</td>\n",
       "      <td>10119</td>\n",
       "      <td>Berlin</td>\n",
       "      <td>Berlin, Germany</td>\n",
       "      <td>DE</td>\n",
       "      <td>Germany</td>\n",
       "      <td>52.534537</td>\n",
       "      <td>13.402557</td>\n",
       "      <td>f</td>\n",
       "      <td>Guesthouse</td>\n",
       "      <td>Entire home/apt</td>\n",
       "      <td>3</td>\n",
       "      <td>1.0</td>\n",
       "      <td>1.0</td>\n",
       "      <td>2.0</td>\n",
       "      <td>Real Bed</td>\n",
       "      <td>{TV,\"Cable TV\",Wifi,Kitchen,Gym,Heating,\"Famil...</td>\n",
       "      <td>NaN</td>\n",
       "      <td>$60.00</td>\n",
       "      <td>NaN</td>\n",
       "      <td>NaN</td>\n",
       "      <td>$200.00</td>\n",
       "      <td>$30.00</td>\n",
       "      <td>1</td>\n",
       "      <td>$28.00</td>\n",
       "      <td>4</td>\n",
       "      <td>1125</td>\n",
       "      <td>3 months ago</td>\n",
       "      <td>t</td>\n",
       "      <td>0</td>\n",
       "      <td>21</td>\n",
       "      <td>51</td>\n",
       "      <td>141</td>\n",
       "      <td>2018-11-07</td>\n",
       "      <td>118</td>\n",
       "      <td>2016-04-11</td>\n",
       "      <td>2018-10-28</td>\n",
       "      <td>93.0</td>\n",
       "      <td>10.0</td>\n",
       "      <td>9.0</td>\n",
       "      <td>10.0</td>\n",
       "      <td>10.0</td>\n",
       "      <td>10.0</td>\n",
       "      <td>9.0</td>\n",
       "      <td>t</td>\n",
       "      <td>NaN</td>\n",
       "      <td>NaN</td>\n",
       "      <td>f</td>\n",
       "      <td>f</td>\n",
       "      <td>strict_14_with_grace_period</td>\n",
       "      <td>f</td>\n",
       "      <td>f</td>\n",
       "      <td>4</td>\n",
       "      <td>3.76</td>\n",
       "    </tr>\n",
       "    <tr>\n",
       "      <th>1</th>\n",
       "      <td>2695</td>\n",
       "      <td>https://www.airbnb.com/rooms/2695</td>\n",
       "      <td>20181107122246</td>\n",
       "      <td>2018-11-07</td>\n",
       "      <td>Prenzlauer Berg close to Mauerpark</td>\n",
       "      <td>NaN</td>\n",
       "      <td>In the summertime we are spending most of our ...</td>\n",
       "      <td>In the summertime we are spending most of our ...</td>\n",
       "      <td>none</td>\n",
       "      <td>NaN</td>\n",
       "      <td>NaN</td>\n",
       "      <td>Within walking distance you'll find the S-Bahn...</td>\n",
       "      <td>Außer deinem Zimmer kannst du noch die Küche u...</td>\n",
       "      <td>NaN</td>\n",
       "      <td>NaN</td>\n",
       "      <td>NaN</td>\n",
       "      <td>NaN</td>\n",
       "      <td>https://a0.muscache.com/im/pictures/97d4f6e8-1...</td>\n",
       "      <td>NaN</td>\n",
       "      <td>2986</td>\n",
       "      <td>https://www.airbnb.com/users/show/2986</td>\n",
       "      <td>Michael</td>\n",
       "      <td>2008-09-16</td>\n",
       "      <td>Berlin, Berlin, Germany</td>\n",
       "      <td>Living with my wife in Berlin.  Like travellin...</td>\n",
       "      <td>NaN</td>\n",
       "      <td>NaN</td>\n",
       "      <td>NaN</td>\n",
       "      <td>f</td>\n",
       "      <td>https://a0.muscache.com/im/pictures/50434955-1...</td>\n",
       "      <td>https://a0.muscache.com/im/pictures/50434955-1...</td>\n",
       "      <td>Prenzlauer Berg</td>\n",
       "      <td>1.0</td>\n",
       "      <td>1.0</td>\n",
       "      <td>['email', 'phone', 'reviews', 'jumio', 'govern...</td>\n",
       "      <td>t</td>\n",
       "      <td>t</td>\n",
       "      <td>Berlin, Berlin, Germany</td>\n",
       "      <td>NaN</td>\n",
       "      <td>Prenzlauer Berg Nordwest</td>\n",
       "      <td>Pankow</td>\n",
       "      <td>Berlin</td>\n",
       "      <td>Berlin</td>\n",
       "      <td>10437</td>\n",
       "      <td>Berlin</td>\n",
       "      <td>Berlin, Germany</td>\n",
       "      <td>DE</td>\n",
       "      <td>Germany</td>\n",
       "      <td>52.548513</td>\n",
       "      <td>13.404553</td>\n",
       "      <td>t</td>\n",
       "      <td>Apartment</td>\n",
       "      <td>Private room</td>\n",
       "      <td>2</td>\n",
       "      <td>1.0</td>\n",
       "      <td>1.0</td>\n",
       "      <td>1.0</td>\n",
       "      <td>Real Bed</td>\n",
       "      <td>{Wifi,Kitchen,Elevator,Heating,Washer,Essentia...</td>\n",
       "      <td>NaN</td>\n",
       "      <td>$17.00</td>\n",
       "      <td>NaN</td>\n",
       "      <td>NaN</td>\n",
       "      <td>$0.00</td>\n",
       "      <td>$0.00</td>\n",
       "      <td>1</td>\n",
       "      <td>$0.00</td>\n",
       "      <td>2</td>\n",
       "      <td>40</td>\n",
       "      <td>7 weeks ago</td>\n",
       "      <td>t</td>\n",
       "      <td>0</td>\n",
       "      <td>0</td>\n",
       "      <td>0</td>\n",
       "      <td>0</td>\n",
       "      <td>2018-11-07</td>\n",
       "      <td>6</td>\n",
       "      <td>2018-07-04</td>\n",
       "      <td>2018-10-01</td>\n",
       "      <td>100.0</td>\n",
       "      <td>10.0</td>\n",
       "      <td>10.0</td>\n",
       "      <td>10.0</td>\n",
       "      <td>10.0</td>\n",
       "      <td>10.0</td>\n",
       "      <td>10.0</td>\n",
       "      <td>t</td>\n",
       "      <td>NaN</td>\n",
       "      <td>NaN</td>\n",
       "      <td>f</td>\n",
       "      <td>f</td>\n",
       "      <td>flexible</td>\n",
       "      <td>f</td>\n",
       "      <td>f</td>\n",
       "      <td>1</td>\n",
       "      <td>1.42</td>\n",
       "    </tr>\n",
       "    <tr>\n",
       "      <th>2</th>\n",
       "      <td>3176</td>\n",
       "      <td>https://www.airbnb.com/rooms/3176</td>\n",
       "      <td>20181107122246</td>\n",
       "      <td>2018-11-07</td>\n",
       "      <td>Fabulous Flat in great Location</td>\n",
       "      <td>This beautiful first floor apartment  is situa...</td>\n",
       "      <td>1st floor (68m2) apartment on Kollwitzplatz/ P...</td>\n",
       "      <td>This beautiful first floor apartment  is situa...</td>\n",
       "      <td>none</td>\n",
       "      <td>The neighbourhood is famous for its variety of...</td>\n",
       "      <td>We welcome FAMILIES and cater especially for y...</td>\n",
       "      <td>We are 5 min walk  away from the tram M2, whic...</td>\n",
       "      <td>The apartment will be entirely yours. We are c...</td>\n",
       "      <td>Feel free to ask any questions prior to bookin...</td>\n",
       "      <td>It’s a non smoking flat, which likes to be tre...</td>\n",
       "      <td>NaN</td>\n",
       "      <td>NaN</td>\n",
       "      <td>https://a0.muscache.com/im/pictures/243355/84a...</td>\n",
       "      <td>NaN</td>\n",
       "      <td>3718</td>\n",
       "      <td>https://www.airbnb.com/users/show/3718</td>\n",
       "      <td>Britta</td>\n",
       "      <td>2008-10-19</td>\n",
       "      <td>Coledale, New South Wales, Australia</td>\n",
       "      <td>We love to travel ourselves a lot and prefer t...</td>\n",
       "      <td>within a day</td>\n",
       "      <td>100%</td>\n",
       "      <td>NaN</td>\n",
       "      <td>f</td>\n",
       "      <td>https://a0.muscache.com/im/users/3718/profile_...</td>\n",
       "      <td>https://a0.muscache.com/im/users/3718/profile_...</td>\n",
       "      <td>Prenzlauer Berg</td>\n",
       "      <td>1.0</td>\n",
       "      <td>1.0</td>\n",
       "      <td>['email', 'phone', 'facebook', 'reviews', 'man...</td>\n",
       "      <td>t</td>\n",
       "      <td>t</td>\n",
       "      <td>Berlin, Berlin, Germany</td>\n",
       "      <td>Prenzlauer Berg</td>\n",
       "      <td>Prenzlauer Berg Südwest</td>\n",
       "      <td>Pankow</td>\n",
       "      <td>Berlin</td>\n",
       "      <td>Berlin</td>\n",
       "      <td>10405</td>\n",
       "      <td>Berlin</td>\n",
       "      <td>Berlin, Germany</td>\n",
       "      <td>DE</td>\n",
       "      <td>Germany</td>\n",
       "      <td>52.534996</td>\n",
       "      <td>13.417579</td>\n",
       "      <td>t</td>\n",
       "      <td>Apartment</td>\n",
       "      <td>Entire home/apt</td>\n",
       "      <td>4</td>\n",
       "      <td>1.0</td>\n",
       "      <td>1.0</td>\n",
       "      <td>2.0</td>\n",
       "      <td>Real Bed</td>\n",
       "      <td>{Internet,Wifi,Kitchen,\"Buzzer/wireless interc...</td>\n",
       "      <td>720.0</td>\n",
       "      <td>$90.00</td>\n",
       "      <td>$520.00</td>\n",
       "      <td>$1,900.00</td>\n",
       "      <td>$200.00</td>\n",
       "      <td>$50.00</td>\n",
       "      <td>2</td>\n",
       "      <td>$20.00</td>\n",
       "      <td>62</td>\n",
       "      <td>1125</td>\n",
       "      <td>a week ago</td>\n",
       "      <td>t</td>\n",
       "      <td>0</td>\n",
       "      <td>0</td>\n",
       "      <td>0</td>\n",
       "      <td>220</td>\n",
       "      <td>2018-11-07</td>\n",
       "      <td>143</td>\n",
       "      <td>2009-06-20</td>\n",
       "      <td>2017-03-20</td>\n",
       "      <td>92.0</td>\n",
       "      <td>9.0</td>\n",
       "      <td>9.0</td>\n",
       "      <td>9.0</td>\n",
       "      <td>9.0</td>\n",
       "      <td>10.0</td>\n",
       "      <td>9.0</td>\n",
       "      <td>t</td>\n",
       "      <td>NaN</td>\n",
       "      <td>NaN</td>\n",
       "      <td>t</td>\n",
       "      <td>f</td>\n",
       "      <td>strict_14_with_grace_period</td>\n",
       "      <td>f</td>\n",
       "      <td>f</td>\n",
       "      <td>1</td>\n",
       "      <td>1.25</td>\n",
       "    </tr>\n",
       "    <tr>\n",
       "      <th>3</th>\n",
       "      <td>3309</td>\n",
       "      <td>https://www.airbnb.com/rooms/3309</td>\n",
       "      <td>20181107122246</td>\n",
       "      <td>2018-11-07</td>\n",
       "      <td>BerlinSpot Schöneberg near KaDeWe</td>\n",
       "      <td>First of all: I prefer short-notice bookings. ...</td>\n",
       "      <td>Your room is really big and has 26 sqm, is ver...</td>\n",
       "      <td>First of all: I prefer short-notice bookings. ...</td>\n",
       "      <td>none</td>\n",
       "      <td>My flat is in the middle of West-Berlin, direc...</td>\n",
       "      <td>The flat is a strictly non-smoking facility! A...</td>\n",
       "      <td>The public transportation is excellent: Severa...</td>\n",
       "      <td>I do have a strictly non-smoker-flat.  Keep th...</td>\n",
       "      <td>I'm working as a freelancing photographer. My ...</td>\n",
       "      <td>House-Rules and Information ..............(deu...</td>\n",
       "      <td>NaN</td>\n",
       "      <td>NaN</td>\n",
       "      <td>https://a0.muscache.com/im/pictures/29054294/b...</td>\n",
       "      <td>NaN</td>\n",
       "      <td>4108</td>\n",
       "      <td>https://www.airbnb.com/users/show/4108</td>\n",
       "      <td>Jana</td>\n",
       "      <td>2008-11-07</td>\n",
       "      <td>Berlin, Berlin, Germany</td>\n",
       "      <td>ENJOY EVERY DAY AS IF IT'S YOUR LAST!!! \\r\\n\\r...</td>\n",
       "      <td>NaN</td>\n",
       "      <td>NaN</td>\n",
       "      <td>NaN</td>\n",
       "      <td>f</td>\n",
       "      <td>https://a0.muscache.com/im/pictures/user/b5938...</td>\n",
       "      <td>https://a0.muscache.com/im/pictures/user/b5938...</td>\n",
       "      <td>Schöneberg</td>\n",
       "      <td>1.0</td>\n",
       "      <td>1.0</td>\n",
       "      <td>['email', 'phone', 'reviews', 'jumio', 'govern...</td>\n",
       "      <td>t</td>\n",
       "      <td>t</td>\n",
       "      <td>Berlin, Berlin, Germany</td>\n",
       "      <td>Schöneberg</td>\n",
       "      <td>Schöneberg-Nord</td>\n",
       "      <td>Tempelhof - Schöneberg</td>\n",
       "      <td>Berlin</td>\n",
       "      <td>Berlin</td>\n",
       "      <td>10777</td>\n",
       "      <td>Berlin</td>\n",
       "      <td>Berlin, Germany</td>\n",
       "      <td>DE</td>\n",
       "      <td>Germany</td>\n",
       "      <td>52.498855</td>\n",
       "      <td>13.349065</td>\n",
       "      <td>t</td>\n",
       "      <td>Apartment</td>\n",
       "      <td>Private room</td>\n",
       "      <td>2</td>\n",
       "      <td>1.0</td>\n",
       "      <td>1.0</td>\n",
       "      <td>1.0</td>\n",
       "      <td>Pull-out Sofa</td>\n",
       "      <td>{Internet,Wifi,\"Pets allowed\",\"Pets live on th...</td>\n",
       "      <td>0.0</td>\n",
       "      <td>$26.00</td>\n",
       "      <td>$175.00</td>\n",
       "      <td>$599.00</td>\n",
       "      <td>$250.00</td>\n",
       "      <td>$30.00</td>\n",
       "      <td>1</td>\n",
       "      <td>$18.00</td>\n",
       "      <td>5</td>\n",
       "      <td>360</td>\n",
       "      <td>4 weeks ago</td>\n",
       "      <td>t</td>\n",
       "      <td>0</td>\n",
       "      <td>0</td>\n",
       "      <td>22</td>\n",
       "      <td>297</td>\n",
       "      <td>2018-11-07</td>\n",
       "      <td>25</td>\n",
       "      <td>2013-08-12</td>\n",
       "      <td>2018-08-16</td>\n",
       "      <td>88.0</td>\n",
       "      <td>9.0</td>\n",
       "      <td>9.0</td>\n",
       "      <td>9.0</td>\n",
       "      <td>10.0</td>\n",
       "      <td>9.0</td>\n",
       "      <td>9.0</td>\n",
       "      <td>t</td>\n",
       "      <td>NaN</td>\n",
       "      <td>NaN</td>\n",
       "      <td>f</td>\n",
       "      <td>f</td>\n",
       "      <td>strict_14_with_grace_period</td>\n",
       "      <td>f</td>\n",
       "      <td>f</td>\n",
       "      <td>1</td>\n",
       "      <td>0.39</td>\n",
       "    </tr>\n",
       "    <tr>\n",
       "      <th>4</th>\n",
       "      <td>7071</td>\n",
       "      <td>https://www.airbnb.com/rooms/7071</td>\n",
       "      <td>20181107122246</td>\n",
       "      <td>2018-11-07</td>\n",
       "      <td>BrightRoom with sunny greenview!</td>\n",
       "      <td>Cozy and large room in the beautiful district ...</td>\n",
       "      <td>The BrightRoom is an approx. 20 sqm (215ft²), ...</td>\n",
       "      <td>Cozy and large room in the beautiful district ...</td>\n",
       "      <td>none</td>\n",
       "      <td>Great neighborhood with plenty of Cafés, Baker...</td>\n",
       "      <td>I hope you enjoy your stay to the fullest! Ple...</td>\n",
       "      <td>Best access to other parts of the city via pub...</td>\n",
       "      <td>The guests have access to the bathroom, a smal...</td>\n",
       "      <td>I am glad if I can give you advice or help as ...</td>\n",
       "      <td>Please take good care of everything during you...</td>\n",
       "      <td>NaN</td>\n",
       "      <td>NaN</td>\n",
       "      <td>https://a0.muscache.com/im/pictures/21278/32a1...</td>\n",
       "      <td>NaN</td>\n",
       "      <td>17391</td>\n",
       "      <td>https://www.airbnb.com/users/show/17391</td>\n",
       "      <td>Bright</td>\n",
       "      <td>2009-05-16</td>\n",
       "      <td>Berlin, Berlin, Germany</td>\n",
       "      <td>I'm a creative person, adventurer, and travele...</td>\n",
       "      <td>within an hour</td>\n",
       "      <td>100%</td>\n",
       "      <td>NaN</td>\n",
       "      <td>t</td>\n",
       "      <td>https://a0.muscache.com/im/pictures/user/48c3d...</td>\n",
       "      <td>https://a0.muscache.com/im/pictures/user/48c3d...</td>\n",
       "      <td>Prenzlauer Berg</td>\n",
       "      <td>1.0</td>\n",
       "      <td>1.0</td>\n",
       "      <td>['email', 'phone', 'reviews', 'jumio', 'govern...</td>\n",
       "      <td>t</td>\n",
       "      <td>t</td>\n",
       "      <td>Berlin, Berlin, Germany</td>\n",
       "      <td>Prenzlauer Berg</td>\n",
       "      <td>Helmholtzplatz</td>\n",
       "      <td>Pankow</td>\n",
       "      <td>Berlin</td>\n",
       "      <td>Berlin</td>\n",
       "      <td>10437</td>\n",
       "      <td>Berlin</td>\n",
       "      <td>Berlin, Germany</td>\n",
       "      <td>DE</td>\n",
       "      <td>Germany</td>\n",
       "      <td>52.543157</td>\n",
       "      <td>13.415091</td>\n",
       "      <td>t</td>\n",
       "      <td>Apartment</td>\n",
       "      <td>Private room</td>\n",
       "      <td>2</td>\n",
       "      <td>1.0</td>\n",
       "      <td>1.0</td>\n",
       "      <td>2.0</td>\n",
       "      <td>Real Bed</td>\n",
       "      <td>{Wifi,Heating,\"Family/kid friendly\",Essentials...</td>\n",
       "      <td>NaN</td>\n",
       "      <td>$42.00</td>\n",
       "      <td>NaN</td>\n",
       "      <td>NaN</td>\n",
       "      <td>$0.00</td>\n",
       "      <td>$0.00</td>\n",
       "      <td>1</td>\n",
       "      <td>$24.00</td>\n",
       "      <td>2</td>\n",
       "      <td>10</td>\n",
       "      <td>3 days ago</td>\n",
       "      <td>t</td>\n",
       "      <td>15</td>\n",
       "      <td>26</td>\n",
       "      <td>26</td>\n",
       "      <td>26</td>\n",
       "      <td>2018-11-07</td>\n",
       "      <td>197</td>\n",
       "      <td>2009-08-18</td>\n",
       "      <td>2018-11-04</td>\n",
       "      <td>96.0</td>\n",
       "      <td>10.0</td>\n",
       "      <td>10.0</td>\n",
       "      <td>10.0</td>\n",
       "      <td>10.0</td>\n",
       "      <td>10.0</td>\n",
       "      <td>9.0</td>\n",
       "      <td>t</td>\n",
       "      <td>NaN</td>\n",
       "      <td>NaN</td>\n",
       "      <td>f</td>\n",
       "      <td>f</td>\n",
       "      <td>moderate</td>\n",
       "      <td>f</td>\n",
       "      <td>f</td>\n",
       "      <td>1</td>\n",
       "      <td>1.75</td>\n",
       "    </tr>\n",
       "  </tbody>\n",
       "</table>\n",
       "</div>"
      ],
      "text/plain": [
       "     id                        listing_url       scrape_id last_scraped                                              name                                            summary                                              space                                        description experiences_offered                              neighborhood_overview                                              notes                                            transit                                             access                                        interaction                                        house_rules  thumbnail_url  medium_url                                        picture_url  xl_picture_url  host_id                                 host_url host_name  host_since                         host_location                                         host_about host_response_time host_response_rate  host_acceptance_rate host_is_superhost                                 host_thumbnail_url                                   host_picture_url host_neighbourhood  host_listings_count  host_total_listings_count                                 host_verifications host_has_profile_pic host_identity_verified                   street    neighbourhood    neighbourhood_cleansed neighbourhood_group_cleansed    city   state zipcode  market   smart_location country_code  country   latitude  longitude is_location_exact property_type        room_type  accommodates  bathrooms  bedrooms  beds       bed_type                                          amenities  square_feet   price weekly_price monthly_price security_deposit cleaning_fee  guests_included extra_people  minimum_nights  maximum_nights calendar_updated has_availability  availability_30  availability_60  availability_90  availability_365 calendar_last_scraped  number_of_reviews first_review last_review  review_scores_rating  review_scores_accuracy  review_scores_cleanliness  review_scores_checkin  review_scores_communication  review_scores_location  review_scores_value requires_license license  jurisdiction_names instant_bookable is_business_travel_ready          cancellation_policy require_guest_profile_picture require_guest_phone_verification  calculated_host_listings_count  reviews_per_month\n",
       "0  2015  https://www.airbnb.com/rooms/2015  20181107122246   2018-11-07  Berlin-Mitte Value! Quiet courtyard/very central  Great location!  30 of 75 sq meters. This wood...  A+++ location! This „Einliegerwohnung“ is an e...  Great location!  30 of 75 sq meters. This wood...                none  It is located in the former East Berlin area o...  This is my home, not a hotel. I rent out occas...  Close to U-Bahn U8 and U2 (metro), Trams M12, ...  Simple kitchen/cooking, refrigerator, microwav...                                   Always available  No parties No events No pets No smoking, not e...            NaN         NaN  https://a0.muscache.com/im/pictures/260fd609-7...             NaN     2217   https://www.airbnb.com/users/show/2217       Ian  2008-08-18  Key Biscayne, Florida, United States                        Believe in sharing economy.     within an hour                96%                   NaN                 t  https://a0.muscache.com/im/pictures/21428a22-4...  https://a0.muscache.com/im/pictures/21428a22-4...              Mitte                  4.0                        4.0  ['email', 'phone', 'reviews', 'jumio', 'offlin...                    t                      t  Berlin, Berlin, Germany            Mitte           Brunnenstr. Süd                        Mitte  Berlin  Berlin   10119  Berlin  Berlin, Germany           DE  Germany  52.534537  13.402557                 f    Guesthouse  Entire home/apt             3        1.0       1.0   2.0       Real Bed  {TV,\"Cable TV\",Wifi,Kitchen,Gym,Heating,\"Famil...          NaN  $60.00          NaN           NaN          $200.00       $30.00                1       $28.00               4            1125     3 months ago                t                0               21               51               141            2018-11-07                118   2016-04-11  2018-10-28                  93.0                    10.0                        9.0                   10.0                         10.0                    10.0                  9.0                t     NaN                 NaN                f                        f  strict_14_with_grace_period                             f                                f                               4               3.76\n",
       "1  2695  https://www.airbnb.com/rooms/2695  20181107122246   2018-11-07                Prenzlauer Berg close to Mauerpark                                                NaN  In the summertime we are spending most of our ...  In the summertime we are spending most of our ...                none                                                NaN                                                NaN  Within walking distance you'll find the S-Bahn...  Außer deinem Zimmer kannst du noch die Küche u...                                                NaN                                                NaN            NaN         NaN  https://a0.muscache.com/im/pictures/97d4f6e8-1...             NaN     2986   https://www.airbnb.com/users/show/2986   Michael  2008-09-16               Berlin, Berlin, Germany  Living with my wife in Berlin.  Like travellin...                NaN                NaN                   NaN                 f  https://a0.muscache.com/im/pictures/50434955-1...  https://a0.muscache.com/im/pictures/50434955-1...    Prenzlauer Berg                  1.0                        1.0  ['email', 'phone', 'reviews', 'jumio', 'govern...                    t                      t  Berlin, Berlin, Germany              NaN  Prenzlauer Berg Nordwest                       Pankow  Berlin  Berlin   10437  Berlin  Berlin, Germany           DE  Germany  52.548513  13.404553                 t     Apartment     Private room             2        1.0       1.0   1.0       Real Bed  {Wifi,Kitchen,Elevator,Heating,Washer,Essentia...          NaN  $17.00          NaN           NaN            $0.00        $0.00                1        $0.00               2              40      7 weeks ago                t                0                0                0                 0            2018-11-07                  6   2018-07-04  2018-10-01                 100.0                    10.0                       10.0                   10.0                         10.0                    10.0                 10.0                t     NaN                 NaN                f                        f                     flexible                             f                                f                               1               1.42\n",
       "2  3176  https://www.airbnb.com/rooms/3176  20181107122246   2018-11-07                   Fabulous Flat in great Location  This beautiful first floor apartment  is situa...  1st floor (68m2) apartment on Kollwitzplatz/ P...  This beautiful first floor apartment  is situa...                none  The neighbourhood is famous for its variety of...  We welcome FAMILIES and cater especially for y...  We are 5 min walk  away from the tram M2, whic...  The apartment will be entirely yours. We are c...  Feel free to ask any questions prior to bookin...  It’s a non smoking flat, which likes to be tre...            NaN         NaN  https://a0.muscache.com/im/pictures/243355/84a...             NaN     3718   https://www.airbnb.com/users/show/3718    Britta  2008-10-19  Coledale, New South Wales, Australia  We love to travel ourselves a lot and prefer t...       within a day               100%                   NaN                 f  https://a0.muscache.com/im/users/3718/profile_...  https://a0.muscache.com/im/users/3718/profile_...    Prenzlauer Berg                  1.0                        1.0  ['email', 'phone', 'facebook', 'reviews', 'man...                    t                      t  Berlin, Berlin, Germany  Prenzlauer Berg   Prenzlauer Berg Südwest                       Pankow  Berlin  Berlin   10405  Berlin  Berlin, Germany           DE  Germany  52.534996  13.417579                 t     Apartment  Entire home/apt             4        1.0       1.0   2.0       Real Bed  {Internet,Wifi,Kitchen,\"Buzzer/wireless interc...        720.0  $90.00      $520.00     $1,900.00          $200.00       $50.00                2       $20.00              62            1125       a week ago                t                0                0                0               220            2018-11-07                143   2009-06-20  2017-03-20                  92.0                     9.0                        9.0                    9.0                          9.0                    10.0                  9.0                t     NaN                 NaN                t                        f  strict_14_with_grace_period                             f                                f                               1               1.25\n",
       "3  3309  https://www.airbnb.com/rooms/3309  20181107122246   2018-11-07                 BerlinSpot Schöneberg near KaDeWe  First of all: I prefer short-notice bookings. ...  Your room is really big and has 26 sqm, is ver...  First of all: I prefer short-notice bookings. ...                none  My flat is in the middle of West-Berlin, direc...  The flat is a strictly non-smoking facility! A...  The public transportation is excellent: Severa...  I do have a strictly non-smoker-flat.  Keep th...  I'm working as a freelancing photographer. My ...  House-Rules and Information ..............(deu...            NaN         NaN  https://a0.muscache.com/im/pictures/29054294/b...             NaN     4108   https://www.airbnb.com/users/show/4108      Jana  2008-11-07               Berlin, Berlin, Germany  ENJOY EVERY DAY AS IF IT'S YOUR LAST!!! \\r\\n\\r...                NaN                NaN                   NaN                 f  https://a0.muscache.com/im/pictures/user/b5938...  https://a0.muscache.com/im/pictures/user/b5938...         Schöneberg                  1.0                        1.0  ['email', 'phone', 'reviews', 'jumio', 'govern...                    t                      t  Berlin, Berlin, Germany       Schöneberg           Schöneberg-Nord       Tempelhof - Schöneberg  Berlin  Berlin   10777  Berlin  Berlin, Germany           DE  Germany  52.498855  13.349065                 t     Apartment     Private room             2        1.0       1.0   1.0  Pull-out Sofa  {Internet,Wifi,\"Pets allowed\",\"Pets live on th...          0.0  $26.00      $175.00       $599.00          $250.00       $30.00                1       $18.00               5             360      4 weeks ago                t                0                0               22               297            2018-11-07                 25   2013-08-12  2018-08-16                  88.0                     9.0                        9.0                    9.0                         10.0                     9.0                  9.0                t     NaN                 NaN                f                        f  strict_14_with_grace_period                             f                                f                               1               0.39\n",
       "4  7071  https://www.airbnb.com/rooms/7071  20181107122246   2018-11-07                  BrightRoom with sunny greenview!  Cozy and large room in the beautiful district ...  The BrightRoom is an approx. 20 sqm (215ft²), ...  Cozy and large room in the beautiful district ...                none  Great neighborhood with plenty of Cafés, Baker...  I hope you enjoy your stay to the fullest! Ple...  Best access to other parts of the city via pub...  The guests have access to the bathroom, a smal...  I am glad if I can give you advice or help as ...  Please take good care of everything during you...            NaN         NaN  https://a0.muscache.com/im/pictures/21278/32a1...             NaN    17391  https://www.airbnb.com/users/show/17391    Bright  2009-05-16               Berlin, Berlin, Germany  I'm a creative person, adventurer, and travele...     within an hour               100%                   NaN                 t  https://a0.muscache.com/im/pictures/user/48c3d...  https://a0.muscache.com/im/pictures/user/48c3d...    Prenzlauer Berg                  1.0                        1.0  ['email', 'phone', 'reviews', 'jumio', 'govern...                    t                      t  Berlin, Berlin, Germany  Prenzlauer Berg            Helmholtzplatz                       Pankow  Berlin  Berlin   10437  Berlin  Berlin, Germany           DE  Germany  52.543157  13.415091                 t     Apartment     Private room             2        1.0       1.0   2.0       Real Bed  {Wifi,Heating,\"Family/kid friendly\",Essentials...          NaN  $42.00          NaN           NaN            $0.00        $0.00                1       $24.00               2              10       3 days ago                t               15               26               26                26            2018-11-07                197   2009-08-18  2018-11-04                  96.0                    10.0                       10.0                   10.0                         10.0                    10.0                  9.0                t     NaN                 NaN                f                        f                     moderate                             f                                f                               1               1.75"
      ]
     },
     "execution_count": 11,
     "metadata": {},
     "output_type": "execute_result"
    }
   ],
   "source": [
    "listings.head()"
   ]
  },
  {
   "cell_type": "code",
   "execution_count": 12,
   "metadata": {
    "ExecuteTime": {
     "end_time": "2019-02-13T14:22:00.056603Z",
     "start_time": "2019-02-13T14:22:00.050867Z"
    }
   },
   "outputs": [
    {
     "data": {
      "text/plain": [
       "Index(['id', 'listing_url', 'scrape_id', 'last_scraped', 'name', 'summary', 'space', 'description', 'experiences_offered', 'neighborhood_overview', 'notes', 'transit', 'access', 'interaction', 'house_rules', 'thumbnail_url', 'medium_url', 'picture_url', 'xl_picture_url', 'host_id', 'host_url', 'host_name', 'host_since', 'host_location', 'host_about', 'host_response_time', 'host_response_rate', 'host_acceptance_rate', 'host_is_superhost', 'host_thumbnail_url', 'host_picture_url', 'host_neighbourhood', 'host_listings_count', 'host_total_listings_count', 'host_verifications', 'host_has_profile_pic', 'host_identity_verified', 'street', 'neighbourhood', 'neighbourhood_cleansed', 'neighbourhood_group_cleansed', 'city', 'state', 'zipcode', 'market', 'smart_location', 'country_code', 'country', 'latitude', 'longitude', 'is_location_exact', 'property_type', 'room_type', 'accommodates', 'bathrooms', 'bedrooms', 'beds', 'bed_type', 'amenities', 'square_feet', 'price', 'weekly_price', 'monthly_price', 'security_deposit', 'cleaning_fee', 'guests_included', 'extra_people', 'minimum_nights', 'maximum_nights', 'calendar_updated', 'has_availability', 'availability_30', 'availability_60', 'availability_90', 'availability_365', 'calendar_last_scraped', 'number_of_reviews', 'first_review', 'last_review', 'review_scores_rating', 'review_scores_accuracy', 'review_scores_cleanliness', 'review_scores_checkin', 'review_scores_communication', 'review_scores_location', 'review_scores_value', 'requires_license', 'license', 'jurisdiction_names', 'instant_bookable', 'is_business_travel_ready', 'cancellation_policy', 'require_guest_profile_picture', 'require_guest_phone_verification', 'calculated_host_listings_count', 'reviews_per_month'], dtype='object')"
      ]
     },
     "execution_count": 12,
     "metadata": {},
     "output_type": "execute_result"
    }
   ],
   "source": [
    "listings.columns"
   ]
  },
  {
   "cell_type": "markdown",
   "metadata": {},
   "source": [
    "Count the Null reviews per month"
   ]
  },
  {
   "cell_type": "code",
   "execution_count": 13,
   "metadata": {
    "ExecuteTime": {
     "end_time": "2019-02-13T14:22:00.182229Z",
     "start_time": "2019-02-13T14:22:00.058663Z"
    }
   },
   "outputs": [
    {
     "data": {
      "text/plain": [
       "id                                      0\n",
       "listing_url                             0\n",
       "scrape_id                               0\n",
       "last_scraped                            0\n",
       "name                                   59\n",
       "summary                               963\n",
       "space                                8532\n",
       "description                           203\n",
       "experiences_offered                     0\n",
       "neighborhood_overview               11012\n",
       "notes                               15337\n",
       "transit                              9516\n",
       "access                              11715\n",
       "interaction                         12146\n",
       "house_rules                         11103\n",
       "thumbnail_url                       22552\n",
       "medium_url                          22552\n",
       "picture_url                             0\n",
       "xl_picture_url                      22552\n",
       "host_id                                 0\n",
       "host_url                                0\n",
       "host_name                              26\n",
       "host_since                             26\n",
       "host_location                         116\n",
       "host_about                          11363\n",
       "host_response_time                  12894\n",
       "host_response_rate                  12895\n",
       "host_acceptance_rate                22552\n",
       "host_is_superhost                      26\n",
       "host_thumbnail_url                     26\n",
       "host_picture_url                       26\n",
       "host_neighbourhood                   5094\n",
       "host_listings_count                    26\n",
       "host_total_listings_count              26\n",
       "host_verifications                      0\n",
       "host_has_profile_pic                   26\n",
       "host_identity_verified                 26\n",
       "street                                  0\n",
       "neighbourhood                        1131\n",
       "neighbourhood_cleansed                  0\n",
       "neighbourhood_group_cleansed            0\n",
       "city                                    5\n",
       "state                                  84\n",
       "zipcode                               656\n",
       "market                                 63\n",
       "smart_location                          0\n",
       "country_code                            0\n",
       "country                                 0\n",
       "latitude                                0\n",
       "longitude                               0\n",
       "is_location_exact                       0\n",
       "property_type                           0\n",
       "room_type                               0\n",
       "accommodates                            0\n",
       "bathrooms                              32\n",
       "bedrooms                               18\n",
       "beds                                   40\n",
       "bed_type                                0\n",
       "amenities                               0\n",
       "square_feet                         22106\n",
       "price                                   0\n",
       "weekly_price                        18871\n",
       "monthly_price                       19893\n",
       "security_deposit                     9361\n",
       "cleaning_fee                         7146\n",
       "guests_included                         0\n",
       "extra_people                            0\n",
       "minimum_nights                          0\n",
       "maximum_nights                          0\n",
       "calendar_updated                        0\n",
       "has_availability                        0\n",
       "availability_30                         0\n",
       "availability_60                         0\n",
       "availability_90                         0\n",
       "availability_365                        0\n",
       "calendar_last_scraped                   0\n",
       "number_of_reviews                       0\n",
       "first_review                         3914\n",
       "last_review                          3908\n",
       "review_scores_rating                 4389\n",
       "review_scores_accuracy               4414\n",
       "review_scores_cleanliness            4411\n",
       "review_scores_checkin                4432\n",
       "review_scores_communication          4418\n",
       "review_scores_location               4431\n",
       "review_scores_value                  4435\n",
       "requires_license                        0\n",
       "license                             20914\n",
       "jurisdiction_names                  22552\n",
       "instant_bookable                        0\n",
       "is_business_travel_ready                0\n",
       "cancellation_policy                     0\n",
       "require_guest_profile_picture           0\n",
       "require_guest_phone_verification        0\n",
       "calculated_host_listings_count          0\n",
       "reviews_per_month                    3914\n",
       "dtype: int64"
      ]
     },
     "execution_count": 13,
     "metadata": {},
     "output_type": "execute_result"
    }
   ],
   "source": [
    "listings.isna().sum()"
   ]
  },
  {
   "cell_type": "code",
   "execution_count": 14,
   "metadata": {
    "ExecuteTime": {
     "end_time": "2019-02-13T14:22:00.197760Z",
     "start_time": "2019-02-13T14:22:00.185588Z"
    }
   },
   "outputs": [],
   "source": [
    "Data_dictionary={\n",
    "    'id':'integer id number for the property'\n",
    "    ,'listing_url' :'url string'\n",
    "    ,'scrape_id':'id number of the data scrape. Will not be required for analysis'\n",
    "    ,'last_scraped':'datetime of last website scrape. Will not be required for analysis'\n",
    "    ,'name':'string Property name'\n",
    "    ,'summary':'string. Brief decription of the property'\n",
    "    ,'space':'string. Brief description of the space'\n",
    "    ,'description':'string. detailed description of the property/space'\n",
    "    ,'experiences_offered':'None type, or list. Berlin contains all None.'\n",
    "    ,'neighborhood_overview':' string. description of the neighbourhood'\n",
    "    ,'notes':'string. additional notes'\n",
    "    ,'transit':'string. describes local transport options'\n",
    "    ,'access' :'string. descrpiption of access to the property'\n",
    "    ,'interaction':'string. how the host interacts with the guests'\n",
    "    ,'house_rules':'string. list of house rules'\n",
    "    ,'thumbnail_url':'string. url of the host thumbnail picture'\n",
    "    ,'medium_url':'string. url of the host thumbnail picture'\n",
    "    ,'picture_url':'string. url of the host picture'\n",
    "    ,'xl_picture_url':'string. url of the picture'\n",
    "    ,'host_id':'int. id of the host'\n",
    "    ,'host_url'                          :'string'\n",
    "    ,'host_name'                         :'string. First name of the Host'\n",
    "    ,'host_since'                        :'string. date host joined Airbnb'\n",
    "    ,'host_location'                     :'string'\n",
    "    ,'host_about'                        :'string. brief description of the host'\n",
    "    ,'host_response_time'                :'int'\n",
    "    ,'host_response_rate'                :'float'\n",
    "    ,'host_acceptance_rate'              :'float'\n",
    "    ,'host_is_superhost'                 :'bool'\n",
    "    ,'host_thumbnail_url'                :'string'\n",
    "    ,'host_picture_url'                  :'string'\n",
    "    ,'host_neighbourhood'                :'string'\n",
    "    ,'host_listings_count'               :'float'\n",
    "    ,'host_total_listings_count'         :'float'\n",
    "    ,'host_verifications'                :'list'\n",
    "    ,'host_has_profile_pic'              :'bool'\n",
    "    ,'host_identity_verified'            :'bool'\n",
    "    ,'street'                            :'string. Street the property is located on'\n",
    "    ,'neighbourhood'                     :'string. neighbourhood'\n",
    "    ,'neighbourhood_cleansed'            :'string'\n",
    "    ,'neighbourhood_group_cleansed'      :'string. cleaned so that it conforms to a list of general neighbourhoods'\n",
    "    ,'city'                              :'string'\n",
    "    ,'state'                             :'string'\n",
    "    ,'zipcode'                           :'int'\n",
    "    ,'market'                            :'string'\n",
    "    ,'smart_location'                    :'string'\n",
    "    ,'country_code'                      :'string'\n",
    "    ,'country'                           :'float. country'\n",
    "    ,'latitude'                          :'float. geolocation identifier'\n",
    "    ,'longitude'                         :'float. geolocation identifier'\n",
    "    ,'is_location_exact'                 :'bool'\n",
    "    ,'property_type'                     :'string. type of accomadation.[entire apartment, private room, shared room]'\n",
    "    ,'room_type'                         :'string'\n",
    "    ,'accommodates'                      :'int. number of people who can stay'\n",
    "    ,'bathrooms'                         :'int. number of bathrooms'\n",
    "    ,'bedrooms'                          :'int. number of bedrooms'\n",
    "    ,'beds'                              :'int. number of beds'\n",
    "    ,'bed_type'                          :'string. list of types of beds'\n",
    "    ,'amenities'                         :'list of available amenities in the property'\n",
    "    ,'square_feet'                       :'int'\n",
    "    ,'price'                             :'string'\n",
    "    ,'weekly_price'                      :'string'\n",
    "    ,'monthly_price'                     :'string'\n",
    "    ,'security_deposit'                  :'string'\n",
    "    ,'cleaning_fee'                      :'string'\n",
    "    ,'guests_included'                   :'int'\n",
    "    ,'extra_people'                      :'string'\n",
    "    ,'minimum_nights'                    :'int'\n",
    "    ,'maximum_nights'                    :'int'\n",
    "    ,'calendar_updated'                  :'int'\n",
    "    ,'has_availability'                  :'bool'\n",
    "    ,'availability_30'                   :'int'\n",
    "    ,'availability_60'                   :'int'\n",
    "    ,'availability_90'                   :'int'\n",
    "    ,'availability_365'                  :'int'\n",
    "    ,'calendar_last_scraped'             :'string'\n",
    "    ,'number_of_reviews'                 :'int'\n",
    "    ,'first_review'                      :'string'\n",
    "    ,'last_review'                       :'string'\n",
    "    ,'review_scores_rating'              :'int'\n",
    "    ,'review_scores_accuracy'            :'int'\n",
    "    ,'review_scores_cleanliness'         :'int'\n",
    "    ,'review_scores_checkin'             :'int'\n",
    "    ,'review_scores_communication'       :'int'\n",
    "    ,'review_scores_location'            :'int'\n",
    "    ,'review_scores_value'               :'int'\n",
    "    ,'requires_license'                  :'bool'\n",
    "    ,'license'                           :'int'\n",
    "    ,'jurisdiction_names'                :'string'\n",
    "    ,'instant_bookable'                  :'bool'\n",
    "    ,'is_business_travel_ready'          :'bool'\n",
    "    ,'cancellation_policy'               :'string'\n",
    "    ,'require_guest_profile_picture'     :'bool'\n",
    "    ,'require_guest_phone_verification'  :'bool'\n",
    "    ,'calculated_host_listings_count'    :'int'\n",
    "    ,'reviews_per_month':  'float'\n",
    "}"
   ]
  },
  {
   "cell_type": "code",
   "execution_count": 15,
   "metadata": {
    "ExecuteTime": {
     "end_time": "2019-02-13T14:22:00.205822Z",
     "start_time": "2019-02-13T14:22:00.199886Z"
    }
   },
   "outputs": [
    {
     "data": {
      "text/plain": [
       "{'id': 'integer id number for the property',\n",
       " 'listing_url': 'url string',\n",
       " 'scrape_id': 'id number of the data scrape. Will not be required for analysis',\n",
       " 'last_scraped': 'datetime of last website scrape. Will not be required for analysis',\n",
       " 'name': 'string Property name',\n",
       " 'summary': 'string. Brief decription of the property',\n",
       " 'space': 'string. Brief description of the space',\n",
       " 'description': 'string. detailed description of the property/space',\n",
       " 'experiences_offered': 'None type, or list. Berlin contains all None.',\n",
       " 'neighborhood_overview': ' string. description of the neighbourhood',\n",
       " 'notes': 'string. additional notes',\n",
       " 'transit': 'string. describes local transport options',\n",
       " 'access': 'string. descrpiption of access to the property',\n",
       " 'interaction': 'string. how the host interacts with the guests',\n",
       " 'house_rules': 'string. list of house rules',\n",
       " 'thumbnail_url': 'string. url of the host thumbnail picture',\n",
       " 'medium_url': 'string. url of the host thumbnail picture',\n",
       " 'picture_url': 'string. url of the host picture',\n",
       " 'xl_picture_url': 'string. url of the picture',\n",
       " 'host_id': 'int. id of the host',\n",
       " 'host_url': 'string',\n",
       " 'host_name': 'string. First name of the Host',\n",
       " 'host_since': 'string. date host joined Airbnb',\n",
       " 'host_location': 'string',\n",
       " 'host_about': 'string. brief description of the host',\n",
       " 'host_response_time': 'int',\n",
       " 'host_response_rate': 'float',\n",
       " 'host_acceptance_rate': 'float',\n",
       " 'host_is_superhost': 'bool',\n",
       " 'host_thumbnail_url': 'string',\n",
       " 'host_picture_url': 'string',\n",
       " 'host_neighbourhood': 'string',\n",
       " 'host_listings_count': 'float',\n",
       " 'host_total_listings_count': 'float',\n",
       " 'host_verifications': 'list',\n",
       " 'host_has_profile_pic': 'bool',\n",
       " 'host_identity_verified': 'bool',\n",
       " 'street': 'string. Street the property is located on',\n",
       " 'neighbourhood': 'string. neighbourhood',\n",
       " 'neighbourhood_cleansed': 'string',\n",
       " 'neighbourhood_group_cleansed': 'string. cleaned so that it conforms to a list of general neighbourhoods',\n",
       " 'city': 'string',\n",
       " 'state': 'string',\n",
       " 'zipcode': 'int',\n",
       " 'market': 'string',\n",
       " 'smart_location': 'string',\n",
       " 'country_code': 'string',\n",
       " 'country': 'float. country',\n",
       " 'latitude': 'float. geolocation identifier',\n",
       " 'longitude': 'float. geolocation identifier',\n",
       " 'is_location_exact': 'bool',\n",
       " 'property_type': 'string. type of accomadation.[entire apartment, private room, shared room]',\n",
       " 'room_type': 'string',\n",
       " 'accommodates': 'int. number of people who can stay',\n",
       " 'bathrooms': 'int. number of bathrooms',\n",
       " 'bedrooms': 'int. number of bedrooms',\n",
       " 'beds': 'int. number of beds',\n",
       " 'bed_type': 'string. list of types of beds',\n",
       " 'amenities': 'list of available amenities in the property',\n",
       " 'square_feet': 'int',\n",
       " 'price': 'string',\n",
       " 'weekly_price': 'string',\n",
       " 'monthly_price': 'string',\n",
       " 'security_deposit': 'string',\n",
       " 'cleaning_fee': 'string',\n",
       " 'guests_included': 'int',\n",
       " 'extra_people': 'string',\n",
       " 'minimum_nights': 'int',\n",
       " 'maximum_nights': 'int',\n",
       " 'calendar_updated': 'int',\n",
       " 'has_availability': 'bool',\n",
       " 'availability_30': 'int',\n",
       " 'availability_60': 'int',\n",
       " 'availability_90': 'int',\n",
       " 'availability_365': 'int',\n",
       " 'calendar_last_scraped': 'string',\n",
       " 'number_of_reviews': 'int',\n",
       " 'first_review': 'string',\n",
       " 'last_review': 'string',\n",
       " 'review_scores_rating': 'int',\n",
       " 'review_scores_accuracy': 'int',\n",
       " 'review_scores_cleanliness': 'int',\n",
       " 'review_scores_checkin': 'int',\n",
       " 'review_scores_communication': 'int',\n",
       " 'review_scores_location': 'int',\n",
       " 'review_scores_value': 'int',\n",
       " 'requires_license': 'bool',\n",
       " 'license': 'int',\n",
       " 'jurisdiction_names': 'string',\n",
       " 'instant_bookable': 'bool',\n",
       " 'is_business_travel_ready': 'bool',\n",
       " 'cancellation_policy': 'string',\n",
       " 'require_guest_profile_picture': 'bool',\n",
       " 'require_guest_phone_verification': 'bool',\n",
       " 'calculated_host_listings_count': 'int',\n",
       " 'reviews_per_month': 'float'}"
      ]
     },
     "execution_count": 15,
     "metadata": {},
     "output_type": "execute_result"
    }
   ],
   "source": [
    "Data_dictionary"
   ]
  },
  {
   "cell_type": "markdown",
   "metadata": {},
   "source": [
    "I will drop all the rows with null values in any of the review columns. I will drop the square_feet, weekly_price, monthly_price, security_deposit, cleaning_fee, license, requires_license and jurisdiction_names columns entirely. All host_<> columns except the host id and name will be droped. name will be kept to help with cleaning of the reviews.\n",
    "\n",
    "other \"object\" type columns with nan will be filled with blank strings (\"\").\n",
    "\n",
    "listings(rows) with nan bathrooms, bedrooms and beds will be dropped"
   ]
  },
  {
   "cell_type": "code",
   "execution_count": 16,
   "metadata": {
    "ExecuteTime": {
     "end_time": "2019-02-13T14:22:00.219632Z",
     "start_time": "2019-02-13T14:22:00.207876Z"
    },
    "scrolled": false
   },
   "outputs": [
    {
     "data": {
      "text/plain": [
       "Berlin, Berlin, Germany                 22317\n",
       "Berlin, Germany                            72\n",
       "., Berlin, Germany                         12\n",
       "Schöneberg, Berlin, Germany                11\n",
       "Mitte, Berlin, Germany                      8\n",
       "Berlin, Schleswig-Holstein, Germany         7\n",
       "Berlin , Berlin, Germany                    6\n",
       "*, Berlin, Germany                          6\n",
       "Berlin, Mitte, Germany                      5\n",
       "Berlin, Germany, Germany                    4\n",
       "berlin, Berlin, Germany                     4\n",
       "Berlin , Germany                            3\n",
       "Berlin-Wilmersdorf, Berlin, Germany         3\n",
       "DE, Germany                                 3\n",
       "Kleinmachnow, Brandenburg, Germany          3\n",
       "Friedrichshain, Berlin, Germany             3\n",
       "Berlin - Mitte, Germany                     3\n",
       "Weissensee, Berlin, Germany                 3\n",
       "Berlino, Berlin, Germany                    2\n",
       "Berlin - Schöneberg, Berlin, Germany        2\n",
       "Name: street, dtype: int64"
      ]
     },
     "execution_count": 16,
     "metadata": {},
     "output_type": "execute_result"
    }
   ],
   "source": [
    "listings.street.value_counts()[:20]"
   ]
  },
  {
   "cell_type": "code",
   "execution_count": 17,
   "metadata": {
    "ExecuteTime": {
     "end_time": "2019-02-13T14:22:00.229924Z",
     "start_time": "2019-02-13T14:22:00.221189Z"
    }
   },
   "outputs": [
    {
     "data": {
      "text/plain": [
       "Neukölln           3209\n",
       "Prenzlauer Berg    2768\n",
       "Kreuzberg          2661\n",
       "Friedrichshain     2526\n",
       "Mitte              1943\n",
       "Wedding            1417\n",
       "Schöneberg         1065\n",
       "Moabit              778\n",
       "Charlottenburg      767\n",
       "Wilmersdorf         483\n",
       "Pankow              281\n",
       "Tempelhof           254\n",
       "Rummelsburg         248\n",
       "Weißensee           195\n",
       "Lichtenberg         174\n",
       "Tiergarten          163\n",
       "Alt-Treptow         156\n",
       "Steglitz            153\n",
       "Reinickendorf       139\n",
       "Westend             117\n",
       "Name: neighbourhood, dtype: int64"
      ]
     },
     "execution_count": 17,
     "metadata": {},
     "output_type": "execute_result"
    }
   ],
   "source": [
    "listings.neighbourhood.value_counts()[:20]"
   ]
  },
  {
   "cell_type": "code",
   "execution_count": 18,
   "metadata": {
    "ExecuteTime": {
     "end_time": "2019-02-13T14:22:00.248046Z",
     "start_time": "2019-02-13T14:22:00.238057Z"
    },
    "scrolled": false
   },
   "outputs": [
    {
     "data": {
      "text/plain": [
       "Tempelhofer Vorstadt        1325\n",
       "Frankfurter Allee Süd FK    1282\n",
       "Alexanderplatz              1091\n",
       "Reuterstraße                1002\n",
       "Rixdorf                      880\n",
       "Neuköllner Mitte/Zentrum     797\n",
       "Brunnenstr. Süd              773\n",
       "Frankfurter Allee Nord       735\n",
       "Schillerpromenade            662\n",
       "südliche Luisenstadt         643\n",
       "Prenzlauer Berg Nordwest     623\n",
       "Prenzlauer Berg Südwest      618\n",
       "Schöneberg-Nord              567\n",
       "Prenzlauer Berg Süd          555\n",
       "Wedding Zentrum              517\n",
       "Moabit West                  490\n",
       "nördliche Luisenstadt        484\n",
       "Schöneberg-Süd               474\n",
       "Helmholtzplatz               459\n",
       "Prenzlauer Berg Nord         411\n",
       "Name: neighbourhood_cleansed, dtype: int64"
      ]
     },
     "execution_count": 18,
     "metadata": {},
     "output_type": "execute_result"
    }
   ],
   "source": [
    "listings.neighbourhood_cleansed.value_counts()[:20]"
   ]
  },
  {
   "cell_type": "code",
   "execution_count": 19,
   "metadata": {
    "ExecuteTime": {
     "end_time": "2019-02-13T14:22:00.261959Z",
     "start_time": "2019-02-13T14:22:00.251589Z"
    }
   },
   "outputs": [
    {
     "data": {
      "text/plain": [
       "Friedrichshain-Kreuzberg    5497\n",
       "Mitte                       4631\n",
       "Pankow                      3541\n",
       "Neukölln                    3499\n",
       "Charlottenburg-Wilm.        1592\n",
       "Tempelhof - Schöneberg      1560\n",
       "Lichtenberg                  688\n",
       "Treptow - Köpenick           595\n",
       "Steglitz - Zehlendorf        437\n",
       "Reinickendorf                247\n",
       "Marzahn - Hellersdorf        141\n",
       "Spandau                      124\n",
       "Name: neighbourhood_group_cleansed, dtype: int64"
      ]
     },
     "execution_count": 19,
     "metadata": {},
     "output_type": "execute_result"
    }
   ],
   "source": [
    "listings.neighbourhood_group_cleansed.value_counts()"
   ]
  },
  {
   "cell_type": "code",
   "execution_count": 20,
   "metadata": {
    "ExecuteTime": {
     "end_time": "2019-02-13T14:22:00.278000Z",
     "start_time": "2019-02-13T14:22:00.265833Z"
    }
   },
   "outputs": [
    {
     "data": {
      "text/plain": [
       "Berlin                   22483\n",
       "Other (International)        2\n",
       "Leipzig                      1\n",
       "New York                     1\n",
       "Juarez                       1\n",
       "Zurich                       1\n",
       "Name: market, dtype: int64"
      ]
     },
     "execution_count": 20,
     "metadata": {},
     "output_type": "execute_result"
    }
   ],
   "source": [
    "listings.market.value_counts()"
   ]
  },
  {
   "cell_type": "markdown",
   "metadata": {},
   "source": [
    "Drop this column as it does not contain any usefull identifiers. City, state, smart_location, country, country_code, is_location_exact and neighbourhood will be dropped"
   ]
  },
  {
   "cell_type": "markdown",
   "metadata": {},
   "source": [
    "Rows to drop if nan contained"
   ]
  },
  {
   "cell_type": "code",
   "execution_count": 21,
   "metadata": {
    "ExecuteTime": {
     "end_time": "2019-02-13T14:22:00.314328Z",
     "start_time": "2019-02-13T14:22:00.280494Z"
    }
   },
   "outputs": [],
   "source": [
    "listings.dropna(subset=['beds', 'bedrooms','bathrooms','number_of_reviews', 'first_review', 'last_review', \n",
    "                        'review_scores_rating', 'review_scores_accuracy', 'review_scores_cleanliness', \n",
    "                        'review_scores_checkin', 'review_scores_communication', 'review_scores_location', \n",
    "                        'review_scores_value','reviews_per_month'], \n",
    "                axis=0,\n",
    "                how='any',\n",
    "                inplace=True)"
   ]
  },
  {
   "cell_type": "markdown",
   "metadata": {},
   "source": [
    "Columns to drop"
   ]
  },
  {
   "cell_type": "code",
   "execution_count": 22,
   "metadata": {
    "ExecuteTime": {
     "end_time": "2019-02-13T14:22:00.323147Z",
     "start_time": "2019-02-13T14:22:00.316790Z"
    }
   },
   "outputs": [
    {
     "data": {
      "text/plain": [
       "Index(['id', 'listing_url', 'scrape_id', 'last_scraped', 'name', 'summary', 'space', 'description', 'experiences_offered', 'neighborhood_overview', 'notes', 'transit', 'access', 'interaction', 'house_rules', 'thumbnail_url', 'medium_url', 'picture_url', 'xl_picture_url', 'host_id', 'host_url', 'host_name', 'host_since', 'host_location', 'host_about', 'host_response_time', 'host_response_rate', 'host_acceptance_rate', 'host_is_superhost', 'host_thumbnail_url', 'host_picture_url', 'host_neighbourhood', 'host_listings_count', 'host_total_listings_count', 'host_verifications', 'host_has_profile_pic', 'host_identity_verified', 'street', 'neighbourhood', 'neighbourhood_cleansed', 'neighbourhood_group_cleansed', 'city', 'state', 'zipcode', 'market', 'smart_location', 'country_code', 'country', 'latitude', 'longitude', 'is_location_exact', 'property_type', 'room_type', 'accommodates', 'bathrooms', 'bedrooms', 'beds', 'bed_type', 'amenities', 'square_feet', 'price', 'weekly_price', 'monthly_price', 'security_deposit', 'cleaning_fee', 'guests_included', 'extra_people', 'minimum_nights', 'maximum_nights', 'calendar_updated', 'has_availability', 'availability_30', 'availability_60', 'availability_90', 'availability_365', 'calendar_last_scraped', 'number_of_reviews', 'first_review', 'last_review', 'review_scores_rating', 'review_scores_accuracy', 'review_scores_cleanliness', 'review_scores_checkin', 'review_scores_communication', 'review_scores_location', 'review_scores_value', 'requires_license', 'license', 'jurisdiction_names', 'instant_bookable', 'is_business_travel_ready', 'cancellation_policy', 'require_guest_profile_picture', 'require_guest_phone_verification', 'calculated_host_listings_count', 'reviews_per_month'], dtype='object')"
      ]
     },
     "execution_count": 22,
     "metadata": {},
     "output_type": "execute_result"
    }
   ],
   "source": [
    "listings.columns"
   ]
  },
  {
   "cell_type": "code",
   "execution_count": 23,
   "metadata": {
    "ExecuteTime": {
     "end_time": "2019-02-13T14:22:00.366679Z",
     "start_time": "2019-02-13T14:22:00.325216Z"
    }
   },
   "outputs": [],
   "source": [
    "listings_clean = listings.drop(columns=['calendar_last_scraped', 'calculated_host_listings_count','street','city', 'state','zipcode',\n",
    "               'smart_location', 'country', 'country_code', 'is_location_exact', 'neighbourhood',\n",
    "               'neighbourhood_cleansed', 'square_feet', 'weekly_price', 'monthly_price', 'license', \n",
    "               'requires_license', 'jurisdiction_names','market','scrape_id','last_scraped','thumbnail_url',\n",
    "               'medium_url','picture_url','xl_picture_url','host_url','host_name','host_since',\n",
    "               'host_location','host_about','host_response_time','host_response_rate','host_acceptance_rate',\n",
    "               'host_thumbnail_url','host_picture_url','host_neighbourhood','host_listings_count', \n",
    "               'host_has_profile_pic','host_identity_verified','calendar_updated','experiences_offered'],axis=1).copy()"
   ]
  },
  {
   "cell_type": "code",
   "execution_count": 24,
   "metadata": {
    "ExecuteTime": {
     "end_time": "2019-02-13T14:22:00.411113Z",
     "start_time": "2019-02-13T14:22:00.368176Z"
    },
    "scrolled": false
   },
   "outputs": [
    {
     "data": {
      "text/html": [
       "<div>\n",
       "<style scoped>\n",
       "    .dataframe tbody tr th:only-of-type {\n",
       "        vertical-align: middle;\n",
       "    }\n",
       "\n",
       "    .dataframe tbody tr th {\n",
       "        vertical-align: top;\n",
       "    }\n",
       "\n",
       "    .dataframe thead th {\n",
       "        text-align: right;\n",
       "    }\n",
       "</style>\n",
       "<table border=\"1\" class=\"dataframe\">\n",
       "  <thead>\n",
       "    <tr style=\"text-align: right;\">\n",
       "      <th></th>\n",
       "      <th>id</th>\n",
       "      <th>listing_url</th>\n",
       "      <th>name</th>\n",
       "      <th>summary</th>\n",
       "      <th>space</th>\n",
       "      <th>description</th>\n",
       "      <th>neighborhood_overview</th>\n",
       "      <th>notes</th>\n",
       "      <th>transit</th>\n",
       "      <th>access</th>\n",
       "      <th>interaction</th>\n",
       "      <th>house_rules</th>\n",
       "      <th>host_id</th>\n",
       "      <th>host_is_superhost</th>\n",
       "      <th>host_total_listings_count</th>\n",
       "      <th>host_verifications</th>\n",
       "      <th>neighbourhood_group_cleansed</th>\n",
       "      <th>latitude</th>\n",
       "      <th>longitude</th>\n",
       "      <th>property_type</th>\n",
       "      <th>room_type</th>\n",
       "      <th>accommodates</th>\n",
       "      <th>bathrooms</th>\n",
       "      <th>bedrooms</th>\n",
       "      <th>beds</th>\n",
       "      <th>bed_type</th>\n",
       "      <th>amenities</th>\n",
       "      <th>price</th>\n",
       "      <th>security_deposit</th>\n",
       "      <th>cleaning_fee</th>\n",
       "      <th>guests_included</th>\n",
       "      <th>extra_people</th>\n",
       "      <th>minimum_nights</th>\n",
       "      <th>maximum_nights</th>\n",
       "      <th>has_availability</th>\n",
       "      <th>availability_30</th>\n",
       "      <th>availability_60</th>\n",
       "      <th>availability_90</th>\n",
       "      <th>availability_365</th>\n",
       "      <th>number_of_reviews</th>\n",
       "      <th>first_review</th>\n",
       "      <th>last_review</th>\n",
       "      <th>review_scores_rating</th>\n",
       "      <th>review_scores_accuracy</th>\n",
       "      <th>review_scores_cleanliness</th>\n",
       "      <th>review_scores_checkin</th>\n",
       "      <th>review_scores_communication</th>\n",
       "      <th>review_scores_location</th>\n",
       "      <th>review_scores_value</th>\n",
       "      <th>instant_bookable</th>\n",
       "      <th>is_business_travel_ready</th>\n",
       "      <th>cancellation_policy</th>\n",
       "      <th>require_guest_profile_picture</th>\n",
       "      <th>require_guest_phone_verification</th>\n",
       "      <th>reviews_per_month</th>\n",
       "    </tr>\n",
       "  </thead>\n",
       "  <tbody>\n",
       "    <tr>\n",
       "      <th>0</th>\n",
       "      <td>2015</td>\n",
       "      <td>https://www.airbnb.com/rooms/2015</td>\n",
       "      <td>Berlin-Mitte Value! Quiet courtyard/very central</td>\n",
       "      <td>Great location!  30 of 75 sq meters. This wood...</td>\n",
       "      <td>A+++ location! This „Einliegerwohnung“ is an e...</td>\n",
       "      <td>Great location!  30 of 75 sq meters. This wood...</td>\n",
       "      <td>It is located in the former East Berlin area o...</td>\n",
       "      <td>This is my home, not a hotel. I rent out occas...</td>\n",
       "      <td>Close to U-Bahn U8 and U2 (metro), Trams M12, ...</td>\n",
       "      <td>Simple kitchen/cooking, refrigerator, microwav...</td>\n",
       "      <td>Always available</td>\n",
       "      <td>No parties No events No pets No smoking, not e...</td>\n",
       "      <td>2217</td>\n",
       "      <td>t</td>\n",
       "      <td>4.0</td>\n",
       "      <td>['email', 'phone', 'reviews', 'jumio', 'offlin...</td>\n",
       "      <td>Mitte</td>\n",
       "      <td>52.534537</td>\n",
       "      <td>13.402557</td>\n",
       "      <td>Guesthouse</td>\n",
       "      <td>Entire home/apt</td>\n",
       "      <td>3</td>\n",
       "      <td>1.0</td>\n",
       "      <td>1.0</td>\n",
       "      <td>2.0</td>\n",
       "      <td>Real Bed</td>\n",
       "      <td>{TV,\"Cable TV\",Wifi,Kitchen,Gym,Heating,\"Famil...</td>\n",
       "      <td>$60.00</td>\n",
       "      <td>$200.00</td>\n",
       "      <td>$30.00</td>\n",
       "      <td>1</td>\n",
       "      <td>$28.00</td>\n",
       "      <td>4</td>\n",
       "      <td>1125</td>\n",
       "      <td>t</td>\n",
       "      <td>0</td>\n",
       "      <td>21</td>\n",
       "      <td>51</td>\n",
       "      <td>141</td>\n",
       "      <td>118</td>\n",
       "      <td>2016-04-11</td>\n",
       "      <td>2018-10-28</td>\n",
       "      <td>93.0</td>\n",
       "      <td>10.0</td>\n",
       "      <td>9.0</td>\n",
       "      <td>10.0</td>\n",
       "      <td>10.0</td>\n",
       "      <td>10.0</td>\n",
       "      <td>9.0</td>\n",
       "      <td>f</td>\n",
       "      <td>f</td>\n",
       "      <td>strict_14_with_grace_period</td>\n",
       "      <td>f</td>\n",
       "      <td>f</td>\n",
       "      <td>3.76</td>\n",
       "    </tr>\n",
       "    <tr>\n",
       "      <th>1</th>\n",
       "      <td>2695</td>\n",
       "      <td>https://www.airbnb.com/rooms/2695</td>\n",
       "      <td>Prenzlauer Berg close to Mauerpark</td>\n",
       "      <td>NaN</td>\n",
       "      <td>In the summertime we are spending most of our ...</td>\n",
       "      <td>In the summertime we are spending most of our ...</td>\n",
       "      <td>NaN</td>\n",
       "      <td>NaN</td>\n",
       "      <td>Within walking distance you'll find the S-Bahn...</td>\n",
       "      <td>Außer deinem Zimmer kannst du noch die Küche u...</td>\n",
       "      <td>NaN</td>\n",
       "      <td>NaN</td>\n",
       "      <td>2986</td>\n",
       "      <td>f</td>\n",
       "      <td>1.0</td>\n",
       "      <td>['email', 'phone', 'reviews', 'jumio', 'govern...</td>\n",
       "      <td>Pankow</td>\n",
       "      <td>52.548513</td>\n",
       "      <td>13.404553</td>\n",
       "      <td>Apartment</td>\n",
       "      <td>Private room</td>\n",
       "      <td>2</td>\n",
       "      <td>1.0</td>\n",
       "      <td>1.0</td>\n",
       "      <td>1.0</td>\n",
       "      <td>Real Bed</td>\n",
       "      <td>{Wifi,Kitchen,Elevator,Heating,Washer,Essentia...</td>\n",
       "      <td>$17.00</td>\n",
       "      <td>$0.00</td>\n",
       "      <td>$0.00</td>\n",
       "      <td>1</td>\n",
       "      <td>$0.00</td>\n",
       "      <td>2</td>\n",
       "      <td>40</td>\n",
       "      <td>t</td>\n",
       "      <td>0</td>\n",
       "      <td>0</td>\n",
       "      <td>0</td>\n",
       "      <td>0</td>\n",
       "      <td>6</td>\n",
       "      <td>2018-07-04</td>\n",
       "      <td>2018-10-01</td>\n",
       "      <td>100.0</td>\n",
       "      <td>10.0</td>\n",
       "      <td>10.0</td>\n",
       "      <td>10.0</td>\n",
       "      <td>10.0</td>\n",
       "      <td>10.0</td>\n",
       "      <td>10.0</td>\n",
       "      <td>f</td>\n",
       "      <td>f</td>\n",
       "      <td>flexible</td>\n",
       "      <td>f</td>\n",
       "      <td>f</td>\n",
       "      <td>1.42</td>\n",
       "    </tr>\n",
       "    <tr>\n",
       "      <th>2</th>\n",
       "      <td>3176</td>\n",
       "      <td>https://www.airbnb.com/rooms/3176</td>\n",
       "      <td>Fabulous Flat in great Location</td>\n",
       "      <td>This beautiful first floor apartment  is situa...</td>\n",
       "      <td>1st floor (68m2) apartment on Kollwitzplatz/ P...</td>\n",
       "      <td>This beautiful first floor apartment  is situa...</td>\n",
       "      <td>The neighbourhood is famous for its variety of...</td>\n",
       "      <td>We welcome FAMILIES and cater especially for y...</td>\n",
       "      <td>We are 5 min walk  away from the tram M2, whic...</td>\n",
       "      <td>The apartment will be entirely yours. We are c...</td>\n",
       "      <td>Feel free to ask any questions prior to bookin...</td>\n",
       "      <td>It’s a non smoking flat, which likes to be tre...</td>\n",
       "      <td>3718</td>\n",
       "      <td>f</td>\n",
       "      <td>1.0</td>\n",
       "      <td>['email', 'phone', 'facebook', 'reviews', 'man...</td>\n",
       "      <td>Pankow</td>\n",
       "      <td>52.534996</td>\n",
       "      <td>13.417579</td>\n",
       "      <td>Apartment</td>\n",
       "      <td>Entire home/apt</td>\n",
       "      <td>4</td>\n",
       "      <td>1.0</td>\n",
       "      <td>1.0</td>\n",
       "      <td>2.0</td>\n",
       "      <td>Real Bed</td>\n",
       "      <td>{Internet,Wifi,Kitchen,\"Buzzer/wireless interc...</td>\n",
       "      <td>$90.00</td>\n",
       "      <td>$200.00</td>\n",
       "      <td>$50.00</td>\n",
       "      <td>2</td>\n",
       "      <td>$20.00</td>\n",
       "      <td>62</td>\n",
       "      <td>1125</td>\n",
       "      <td>t</td>\n",
       "      <td>0</td>\n",
       "      <td>0</td>\n",
       "      <td>0</td>\n",
       "      <td>220</td>\n",
       "      <td>143</td>\n",
       "      <td>2009-06-20</td>\n",
       "      <td>2017-03-20</td>\n",
       "      <td>92.0</td>\n",
       "      <td>9.0</td>\n",
       "      <td>9.0</td>\n",
       "      <td>9.0</td>\n",
       "      <td>9.0</td>\n",
       "      <td>10.0</td>\n",
       "      <td>9.0</td>\n",
       "      <td>t</td>\n",
       "      <td>f</td>\n",
       "      <td>strict_14_with_grace_period</td>\n",
       "      <td>f</td>\n",
       "      <td>f</td>\n",
       "      <td>1.25</td>\n",
       "    </tr>\n",
       "    <tr>\n",
       "      <th>3</th>\n",
       "      <td>3309</td>\n",
       "      <td>https://www.airbnb.com/rooms/3309</td>\n",
       "      <td>BerlinSpot Schöneberg near KaDeWe</td>\n",
       "      <td>First of all: I prefer short-notice bookings. ...</td>\n",
       "      <td>Your room is really big and has 26 sqm, is ver...</td>\n",
       "      <td>First of all: I prefer short-notice bookings. ...</td>\n",
       "      <td>My flat is in the middle of West-Berlin, direc...</td>\n",
       "      <td>The flat is a strictly non-smoking facility! A...</td>\n",
       "      <td>The public transportation is excellent: Severa...</td>\n",
       "      <td>I do have a strictly non-smoker-flat.  Keep th...</td>\n",
       "      <td>I'm working as a freelancing photographer. My ...</td>\n",
       "      <td>House-Rules and Information ..............(deu...</td>\n",
       "      <td>4108</td>\n",
       "      <td>f</td>\n",
       "      <td>1.0</td>\n",
       "      <td>['email', 'phone', 'reviews', 'jumio', 'govern...</td>\n",
       "      <td>Tempelhof - Schöneberg</td>\n",
       "      <td>52.498855</td>\n",
       "      <td>13.349065</td>\n",
       "      <td>Apartment</td>\n",
       "      <td>Private room</td>\n",
       "      <td>2</td>\n",
       "      <td>1.0</td>\n",
       "      <td>1.0</td>\n",
       "      <td>1.0</td>\n",
       "      <td>Pull-out Sofa</td>\n",
       "      <td>{Internet,Wifi,\"Pets allowed\",\"Pets live on th...</td>\n",
       "      <td>$26.00</td>\n",
       "      <td>$250.00</td>\n",
       "      <td>$30.00</td>\n",
       "      <td>1</td>\n",
       "      <td>$18.00</td>\n",
       "      <td>5</td>\n",
       "      <td>360</td>\n",
       "      <td>t</td>\n",
       "      <td>0</td>\n",
       "      <td>0</td>\n",
       "      <td>22</td>\n",
       "      <td>297</td>\n",
       "      <td>25</td>\n",
       "      <td>2013-08-12</td>\n",
       "      <td>2018-08-16</td>\n",
       "      <td>88.0</td>\n",
       "      <td>9.0</td>\n",
       "      <td>9.0</td>\n",
       "      <td>9.0</td>\n",
       "      <td>10.0</td>\n",
       "      <td>9.0</td>\n",
       "      <td>9.0</td>\n",
       "      <td>f</td>\n",
       "      <td>f</td>\n",
       "      <td>strict_14_with_grace_period</td>\n",
       "      <td>f</td>\n",
       "      <td>f</td>\n",
       "      <td>0.39</td>\n",
       "    </tr>\n",
       "    <tr>\n",
       "      <th>4</th>\n",
       "      <td>7071</td>\n",
       "      <td>https://www.airbnb.com/rooms/7071</td>\n",
       "      <td>BrightRoom with sunny greenview!</td>\n",
       "      <td>Cozy and large room in the beautiful district ...</td>\n",
       "      <td>The BrightRoom is an approx. 20 sqm (215ft²), ...</td>\n",
       "      <td>Cozy and large room in the beautiful district ...</td>\n",
       "      <td>Great neighborhood with plenty of Cafés, Baker...</td>\n",
       "      <td>I hope you enjoy your stay to the fullest! Ple...</td>\n",
       "      <td>Best access to other parts of the city via pub...</td>\n",
       "      <td>The guests have access to the bathroom, a smal...</td>\n",
       "      <td>I am glad if I can give you advice or help as ...</td>\n",
       "      <td>Please take good care of everything during you...</td>\n",
       "      <td>17391</td>\n",
       "      <td>t</td>\n",
       "      <td>1.0</td>\n",
       "      <td>['email', 'phone', 'reviews', 'jumio', 'govern...</td>\n",
       "      <td>Pankow</td>\n",
       "      <td>52.543157</td>\n",
       "      <td>13.415091</td>\n",
       "      <td>Apartment</td>\n",
       "      <td>Private room</td>\n",
       "      <td>2</td>\n",
       "      <td>1.0</td>\n",
       "      <td>1.0</td>\n",
       "      <td>2.0</td>\n",
       "      <td>Real Bed</td>\n",
       "      <td>{Wifi,Heating,\"Family/kid friendly\",Essentials...</td>\n",
       "      <td>$42.00</td>\n",
       "      <td>$0.00</td>\n",
       "      <td>$0.00</td>\n",
       "      <td>1</td>\n",
       "      <td>$24.00</td>\n",
       "      <td>2</td>\n",
       "      <td>10</td>\n",
       "      <td>t</td>\n",
       "      <td>15</td>\n",
       "      <td>26</td>\n",
       "      <td>26</td>\n",
       "      <td>26</td>\n",
       "      <td>197</td>\n",
       "      <td>2009-08-18</td>\n",
       "      <td>2018-11-04</td>\n",
       "      <td>96.0</td>\n",
       "      <td>10.0</td>\n",
       "      <td>10.0</td>\n",
       "      <td>10.0</td>\n",
       "      <td>10.0</td>\n",
       "      <td>10.0</td>\n",
       "      <td>9.0</td>\n",
       "      <td>f</td>\n",
       "      <td>f</td>\n",
       "      <td>moderate</td>\n",
       "      <td>f</td>\n",
       "      <td>f</td>\n",
       "      <td>1.75</td>\n",
       "    </tr>\n",
       "  </tbody>\n",
       "</table>\n",
       "</div>"
      ],
      "text/plain": [
       "     id                        listing_url                                              name                                            summary                                              space                                        description                              neighborhood_overview                                              notes                                            transit                                             access                                        interaction                                        house_rules  host_id host_is_superhost  host_total_listings_count                                 host_verifications neighbourhood_group_cleansed   latitude  longitude property_type        room_type  accommodates  bathrooms  bedrooms  beds       bed_type                                          amenities   price security_deposit cleaning_fee  guests_included extra_people  minimum_nights  maximum_nights has_availability  availability_30  availability_60  availability_90  availability_365  number_of_reviews first_review last_review  review_scores_rating  review_scores_accuracy  review_scores_cleanliness  review_scores_checkin  review_scores_communication  review_scores_location  review_scores_value instant_bookable is_business_travel_ready          cancellation_policy require_guest_profile_picture require_guest_phone_verification  reviews_per_month\n",
       "0  2015  https://www.airbnb.com/rooms/2015  Berlin-Mitte Value! Quiet courtyard/very central  Great location!  30 of 75 sq meters. This wood...  A+++ location! This „Einliegerwohnung“ is an e...  Great location!  30 of 75 sq meters. This wood...  It is located in the former East Berlin area o...  This is my home, not a hotel. I rent out occas...  Close to U-Bahn U8 and U2 (metro), Trams M12, ...  Simple kitchen/cooking, refrigerator, microwav...                                   Always available  No parties No events No pets No smoking, not e...     2217                 t                        4.0  ['email', 'phone', 'reviews', 'jumio', 'offlin...                        Mitte  52.534537  13.402557    Guesthouse  Entire home/apt             3        1.0       1.0   2.0       Real Bed  {TV,\"Cable TV\",Wifi,Kitchen,Gym,Heating,\"Famil...  $60.00          $200.00       $30.00                1       $28.00               4            1125                t                0               21               51               141                118   2016-04-11  2018-10-28                  93.0                    10.0                        9.0                   10.0                         10.0                    10.0                  9.0                f                        f  strict_14_with_grace_period                             f                                f               3.76\n",
       "1  2695  https://www.airbnb.com/rooms/2695                Prenzlauer Berg close to Mauerpark                                                NaN  In the summertime we are spending most of our ...  In the summertime we are spending most of our ...                                                NaN                                                NaN  Within walking distance you'll find the S-Bahn...  Außer deinem Zimmer kannst du noch die Küche u...                                                NaN                                                NaN     2986                 f                        1.0  ['email', 'phone', 'reviews', 'jumio', 'govern...                       Pankow  52.548513  13.404553     Apartment     Private room             2        1.0       1.0   1.0       Real Bed  {Wifi,Kitchen,Elevator,Heating,Washer,Essentia...  $17.00            $0.00        $0.00                1        $0.00               2              40                t                0                0                0                 0                  6   2018-07-04  2018-10-01                 100.0                    10.0                       10.0                   10.0                         10.0                    10.0                 10.0                f                        f                     flexible                             f                                f               1.42\n",
       "2  3176  https://www.airbnb.com/rooms/3176                   Fabulous Flat in great Location  This beautiful first floor apartment  is situa...  1st floor (68m2) apartment on Kollwitzplatz/ P...  This beautiful first floor apartment  is situa...  The neighbourhood is famous for its variety of...  We welcome FAMILIES and cater especially for y...  We are 5 min walk  away from the tram M2, whic...  The apartment will be entirely yours. We are c...  Feel free to ask any questions prior to bookin...  It’s a non smoking flat, which likes to be tre...     3718                 f                        1.0  ['email', 'phone', 'facebook', 'reviews', 'man...                       Pankow  52.534996  13.417579     Apartment  Entire home/apt             4        1.0       1.0   2.0       Real Bed  {Internet,Wifi,Kitchen,\"Buzzer/wireless interc...  $90.00          $200.00       $50.00                2       $20.00              62            1125                t                0                0                0               220                143   2009-06-20  2017-03-20                  92.0                     9.0                        9.0                    9.0                          9.0                    10.0                  9.0                t                        f  strict_14_with_grace_period                             f                                f               1.25\n",
       "3  3309  https://www.airbnb.com/rooms/3309                 BerlinSpot Schöneberg near KaDeWe  First of all: I prefer short-notice bookings. ...  Your room is really big and has 26 sqm, is ver...  First of all: I prefer short-notice bookings. ...  My flat is in the middle of West-Berlin, direc...  The flat is a strictly non-smoking facility! A...  The public transportation is excellent: Severa...  I do have a strictly non-smoker-flat.  Keep th...  I'm working as a freelancing photographer. My ...  House-Rules and Information ..............(deu...     4108                 f                        1.0  ['email', 'phone', 'reviews', 'jumio', 'govern...       Tempelhof - Schöneberg  52.498855  13.349065     Apartment     Private room             2        1.0       1.0   1.0  Pull-out Sofa  {Internet,Wifi,\"Pets allowed\",\"Pets live on th...  $26.00          $250.00       $30.00                1       $18.00               5             360                t                0                0               22               297                 25   2013-08-12  2018-08-16                  88.0                     9.0                        9.0                    9.0                         10.0                     9.0                  9.0                f                        f  strict_14_with_grace_period                             f                                f               0.39\n",
       "4  7071  https://www.airbnb.com/rooms/7071                  BrightRoom with sunny greenview!  Cozy and large room in the beautiful district ...  The BrightRoom is an approx. 20 sqm (215ft²), ...  Cozy and large room in the beautiful district ...  Great neighborhood with plenty of Cafés, Baker...  I hope you enjoy your stay to the fullest! Ple...  Best access to other parts of the city via pub...  The guests have access to the bathroom, a smal...  I am glad if I can give you advice or help as ...  Please take good care of everything during you...    17391                 t                        1.0  ['email', 'phone', 'reviews', 'jumio', 'govern...                       Pankow  52.543157  13.415091     Apartment     Private room             2        1.0       1.0   2.0       Real Bed  {Wifi,Heating,\"Family/kid friendly\",Essentials...  $42.00            $0.00        $0.00                1       $24.00               2              10                t               15               26               26                26                197   2009-08-18  2018-11-04                  96.0                    10.0                       10.0                   10.0                         10.0                    10.0                  9.0                f                        f                     moderate                             f                                f               1.75"
      ]
     },
     "execution_count": 24,
     "metadata": {},
     "output_type": "execute_result"
    }
   ],
   "source": [
    "listings_clean.head()"
   ]
  },
  {
   "cell_type": "markdown",
   "metadata": {},
   "source": [
    "columns to fill with a blank string"
   ]
  },
  {
   "cell_type": "code",
   "execution_count": 25,
   "metadata": {
    "ExecuteTime": {
     "end_time": "2019-02-13T14:22:00.417238Z",
     "start_time": "2019-02-13T14:22:00.412491Z"
    }
   },
   "outputs": [],
   "source": [
    "cols_to_fill_blank =['name', 'summary', 'space', 'description', 'experiences_offered', 'neighborhood_overview', \n",
    "                     'notes', 'transit', 'access', 'interaction', 'house_rules']\n",
    "blank_dict = {i:\"\" for i in cols_to_fill_blank}"
   ]
  },
  {
   "cell_type": "code",
   "execution_count": 26,
   "metadata": {
    "ExecuteTime": {
     "end_time": "2019-02-13T14:22:00.455945Z",
     "start_time": "2019-02-13T14:22:00.419234Z"
    }
   },
   "outputs": [],
   "source": [
    "listings_clean.fillna(blank_dict, inplace=True)"
   ]
  },
  {
   "cell_type": "code",
   "execution_count": 27,
   "metadata": {
    "ExecuteTime": {
     "end_time": "2019-02-13T14:22:00.514953Z",
     "start_time": "2019-02-13T14:22:00.458000Z"
    }
   },
   "outputs": [
    {
     "name": "stdout",
     "output_type": "stream",
     "text": [
      "<class 'pandas.core.frame.DataFrame'>\n",
      "Int64Index: 18055 entries, 0 to 22424\n",
      "Data columns (total 55 columns):\n",
      "id                                  18055 non-null int64\n",
      "listing_url                         18055 non-null object\n",
      "name                                18055 non-null object\n",
      "summary                             18055 non-null object\n",
      "space                               18055 non-null object\n",
      "description                         18055 non-null object\n",
      "neighborhood_overview               18055 non-null object\n",
      "notes                               18055 non-null object\n",
      "transit                             18055 non-null object\n",
      "access                              18055 non-null object\n",
      "interaction                         18055 non-null object\n",
      "house_rules                         18055 non-null object\n",
      "host_id                             18055 non-null int64\n",
      "host_is_superhost                   18042 non-null object\n",
      "host_total_listings_count           18042 non-null float64\n",
      "host_verifications                  18055 non-null object\n",
      "neighbourhood_group_cleansed        18055 non-null object\n",
      "latitude                            18055 non-null float64\n",
      "longitude                           18055 non-null float64\n",
      "property_type                       18055 non-null object\n",
      "room_type                           18055 non-null object\n",
      "accommodates                        18055 non-null int64\n",
      "bathrooms                           18055 non-null float64\n",
      "bedrooms                            18055 non-null float64\n",
      "beds                                18055 non-null float64\n",
      "bed_type                            18055 non-null object\n",
      "amenities                           18055 non-null object\n",
      "price                               18055 non-null object\n",
      "security_deposit                    11308 non-null object\n",
      "cleaning_fee                        13357 non-null object\n",
      "guests_included                     18055 non-null int64\n",
      "extra_people                        18055 non-null object\n",
      "minimum_nights                      18055 non-null int64\n",
      "maximum_nights                      18055 non-null int64\n",
      "has_availability                    18055 non-null object\n",
      "availability_30                     18055 non-null int64\n",
      "availability_60                     18055 non-null int64\n",
      "availability_90                     18055 non-null int64\n",
      "availability_365                    18055 non-null int64\n",
      "number_of_reviews                   18055 non-null int64\n",
      "first_review                        18055 non-null object\n",
      "last_review                         18055 non-null object\n",
      "review_scores_rating                18055 non-null float64\n",
      "review_scores_accuracy              18055 non-null float64\n",
      "review_scores_cleanliness           18055 non-null float64\n",
      "review_scores_checkin               18055 non-null float64\n",
      "review_scores_communication         18055 non-null float64\n",
      "review_scores_location              18055 non-null float64\n",
      "review_scores_value                 18055 non-null float64\n",
      "instant_bookable                    18055 non-null object\n",
      "is_business_travel_ready            18055 non-null object\n",
      "cancellation_policy                 18055 non-null object\n",
      "require_guest_profile_picture       18055 non-null object\n",
      "require_guest_phone_verification    18055 non-null object\n",
      "reviews_per_month                   18055 non-null float64\n",
      "dtypes: float64(14), int64(11), object(30)\n",
      "memory usage: 7.7+ MB\n"
     ]
    }
   ],
   "source": [
    "listings_clean.info()"
   ]
  },
  {
   "cell_type": "code",
   "execution_count": 28,
   "metadata": {
    "ExecuteTime": {
     "end_time": "2019-02-13T14:22:00.521908Z",
     "start_time": "2019-02-13T14:22:00.517131Z"
    }
   },
   "outputs": [],
   "source": [
    "columns_to_bin = ['host_is_superhost','has_availability','instant_bookable','is_business_travel_ready',\n",
    "                  'require_guest_profile_picture','require_guest_phone_verification']\n",
    "bin_dict = {i:{'f':0,'t':1} for i in columns_to_bin}               "
   ]
  },
  {
   "cell_type": "code",
   "execution_count": 29,
   "metadata": {
    "ExecuteTime": {
     "end_time": "2019-02-13T14:22:00.664834Z",
     "start_time": "2019-02-13T14:22:00.525376Z"
    }
   },
   "outputs": [],
   "source": [
    "listings_clean.replace(bin_dict,inplace=True)"
   ]
  },
  {
   "cell_type": "code",
   "execution_count": 30,
   "metadata": {
    "ExecuteTime": {
     "end_time": "2019-02-13T14:22:00.670102Z",
     "start_time": "2019-02-13T14:22:00.666913Z"
    }
   },
   "outputs": [],
   "source": [
    "price_cols =['price','security_deposit','cleaning_fee','extra_people']"
   ]
  },
  {
   "cell_type": "markdown",
   "metadata": {},
   "source": [
    "Columns to fill with 0"
   ]
  },
  {
   "cell_type": "code",
   "execution_count": 31,
   "metadata": {
    "ExecuteTime": {
     "end_time": "2019-02-13T14:22:00.738924Z",
     "start_time": "2019-02-13T14:22:00.672024Z"
    }
   },
   "outputs": [],
   "source": [
    "listings_clean[price_cols]=listings_clean[price_cols].apply(lambda x: x.str.replace('$',\"\").replace(',',\"\"))"
   ]
  },
  {
   "cell_type": "code",
   "execution_count": 32,
   "metadata": {
    "ExecuteTime": {
     "end_time": "2019-02-13T14:22:00.831892Z",
     "start_time": "2019-02-13T14:22:00.741218Z"
    }
   },
   "outputs": [],
   "source": [
    "listings_clean[price_cols]=listings_clean[price_cols].apply(pd.to_numeric,errors='coerce')"
   ]
  },
  {
   "cell_type": "code",
   "execution_count": 33,
   "metadata": {
    "ExecuteTime": {
     "end_time": "2019-02-13T14:22:00.838453Z",
     "start_time": "2019-02-13T14:22:00.833745Z"
    }
   },
   "outputs": [
    {
     "data": {
      "text/plain": [
       "numpy.float64"
      ]
     },
     "execution_count": 33,
     "metadata": {},
     "output_type": "execute_result"
    }
   ],
   "source": [
    "type(listings_clean.price[20])"
   ]
  },
  {
   "cell_type": "code",
   "execution_count": 34,
   "metadata": {
    "ExecuteTime": {
     "end_time": "2019-02-13T14:22:00.863162Z",
     "start_time": "2019-02-13T14:22:00.840865Z"
    }
   },
   "outputs": [],
   "source": [
    "listings_clean.dropna(subset=['price'],inplace=True,axis=0)"
   ]
  },
  {
   "cell_type": "code",
   "execution_count": 35,
   "metadata": {
    "ExecuteTime": {
     "end_time": "2019-02-13T14:22:00.868534Z",
     "start_time": "2019-02-13T14:22:00.865045Z"
    }
   },
   "outputs": [],
   "source": [
    "cols_to_fill_0=['security_deposit', 'cleaning_fee','host_total_listings_count',\n",
    "                'host_verifications','host_is_superhost','security_deposit','cleaning_fee','extra_people']\n",
    "zero_dict = {i:0.0 for i in cols_to_fill_0}"
   ]
  },
  {
   "cell_type": "code",
   "execution_count": 36,
   "metadata": {
    "ExecuteTime": {
     "end_time": "2019-02-13T14:22:00.878410Z",
     "start_time": "2019-02-13T14:22:00.870798Z"
    }
   },
   "outputs": [],
   "source": [
    "listings_clean.fillna(zero_dict,inplace=True)"
   ]
  },
  {
   "cell_type": "code",
   "execution_count": 37,
   "metadata": {
    "ExecuteTime": {
     "end_time": "2019-02-13T14:22:00.935176Z",
     "start_time": "2019-02-13T14:22:00.880390Z"
    }
   },
   "outputs": [
    {
     "name": "stdout",
     "output_type": "stream",
     "text": [
      "<class 'pandas.core.frame.DataFrame'>\n",
      "Int64Index: 18037 entries, 0 to 22424\n",
      "Data columns (total 55 columns):\n",
      "id                                  18037 non-null int64\n",
      "listing_url                         18037 non-null object\n",
      "name                                18037 non-null object\n",
      "summary                             18037 non-null object\n",
      "space                               18037 non-null object\n",
      "description                         18037 non-null object\n",
      "neighborhood_overview               18037 non-null object\n",
      "notes                               18037 non-null object\n",
      "transit                             18037 non-null object\n",
      "access                              18037 non-null object\n",
      "interaction                         18037 non-null object\n",
      "house_rules                         18037 non-null object\n",
      "host_id                             18037 non-null int64\n",
      "host_is_superhost                   18037 non-null float64\n",
      "host_total_listings_count           18037 non-null float64\n",
      "host_verifications                  18037 non-null object\n",
      "neighbourhood_group_cleansed        18037 non-null object\n",
      "latitude                            18037 non-null float64\n",
      "longitude                           18037 non-null float64\n",
      "property_type                       18037 non-null object\n",
      "room_type                           18037 non-null object\n",
      "accommodates                        18037 non-null int64\n",
      "bathrooms                           18037 non-null float64\n",
      "bedrooms                            18037 non-null float64\n",
      "beds                                18037 non-null float64\n",
      "bed_type                            18037 non-null object\n",
      "amenities                           18037 non-null object\n",
      "price                               18037 non-null float64\n",
      "security_deposit                    18037 non-null float64\n",
      "cleaning_fee                        18037 non-null float64\n",
      "guests_included                     18037 non-null int64\n",
      "extra_people                        18037 non-null float64\n",
      "minimum_nights                      18037 non-null int64\n",
      "maximum_nights                      18037 non-null int64\n",
      "has_availability                    18037 non-null int64\n",
      "availability_30                     18037 non-null int64\n",
      "availability_60                     18037 non-null int64\n",
      "availability_90                     18037 non-null int64\n",
      "availability_365                    18037 non-null int64\n",
      "number_of_reviews                   18037 non-null int64\n",
      "first_review                        18037 non-null object\n",
      "last_review                         18037 non-null object\n",
      "review_scores_rating                18037 non-null float64\n",
      "review_scores_accuracy              18037 non-null float64\n",
      "review_scores_cleanliness           18037 non-null float64\n",
      "review_scores_checkin               18037 non-null float64\n",
      "review_scores_communication         18037 non-null float64\n",
      "review_scores_location              18037 non-null float64\n",
      "review_scores_value                 18037 non-null float64\n",
      "instant_bookable                    18037 non-null int64\n",
      "is_business_travel_ready            18037 non-null int64\n",
      "cancellation_policy                 18037 non-null object\n",
      "require_guest_profile_picture       18037 non-null int64\n",
      "require_guest_phone_verification    18037 non-null int64\n",
      "reviews_per_month                   18037 non-null float64\n",
      "dtypes: float64(19), int64(16), object(20)\n",
      "memory usage: 7.7+ MB\n"
     ]
    }
   ],
   "source": [
    "listings_clean.info()"
   ]
  },
  {
   "cell_type": "code",
   "execution_count": 38,
   "metadata": {
    "ExecuteTime": {
     "end_time": "2019-02-13T14:22:00.943615Z",
     "start_time": "2019-02-13T14:22:00.938933Z"
    }
   },
   "outputs": [
    {
     "data": {
      "text/plain": [
       "\"['email', 'phone', 'facebook', 'reviews', 'jumio', 'government_id']\""
      ]
     },
     "execution_count": 38,
     "metadata": {},
     "output_type": "execute_result"
    }
   ],
   "source": [
    "listings_clean.host_verifications[23]"
   ]
  },
  {
   "cell_type": "markdown",
   "metadata": {},
   "source": [
    "Convert the dates to datetime"
   ]
  },
  {
   "cell_type": "code",
   "execution_count": 39,
   "metadata": {
    "ExecuteTime": {
     "end_time": "2019-02-13T14:22:01.070090Z",
     "start_time": "2019-02-13T14:22:00.946096Z"
    }
   },
   "outputs": [],
   "source": [
    "listings_clean[['first_review','last_review']]=listings_clean[['first_review','last_review']].apply(lambda x: pd.to_datetime(x, format=\"%Y-%m-%d\"))"
   ]
  },
  {
   "cell_type": "code",
   "execution_count": 40,
   "metadata": {
    "ExecuteTime": {
     "end_time": "2019-02-13T14:22:01.076250Z",
     "start_time": "2019-02-13T14:22:01.071783Z"
    }
   },
   "outputs": [],
   "source": [
    "listings_clean['last_to_first_review']=listings_clean.last_review-listings_clean.first_review"
   ]
  },
  {
   "cell_type": "code",
   "execution_count": 41,
   "metadata": {
    "ExecuteTime": {
     "end_time": "2019-02-13T14:22:01.082755Z",
     "start_time": "2019-02-13T14:22:01.078632Z"
    }
   },
   "outputs": [],
   "source": [
    "listings_clean.reset_index(inplace=True)"
   ]
  },
  {
   "cell_type": "markdown",
   "metadata": {},
   "source": [
    "Extract from http://insideairbnb.com/about.html :\n",
    "\n",
    "\"Inside Airbnb's \"San Francisco Model\" uses a modified methodology as follows:\n",
    "\n",
    "A Review Rate of 50% is used to convert reviews to estimated bookings.\n",
    "Alex Marqusee uses a review rate of 72%, however this is attributed to an unreliable source: Airbnb's CEO and co-founder Brian Chesky.\n",
    "\n",
    "The Budget and Legislative Analyst's Office (page 49) also use a value 72% for their review rate, and in addition, introduce a higher impact model using a review rate of 30.5% - based on comparing public data of reviews to the The New York Attorney General’s report on Airbnb released in October 2014.\n",
    "\n",
    "Inside Airbnb analysis found that using a review rate 30.5% is more fact based, however probably not conservative enough, given that the Budget and Legislative Analyst's Office did not take into account missing reviews because of deleted listings. A review rate of 72% is unverifiable - therefore 50% was chosen as it sits almost exactly between 72% and 30.5%.\n",
    "\n",
    "An average length of stay is configured for each city, and this, multiplied by the estimated bookings for each listing over a period gives the occupancy rate\n",
    "\n",
    "Where statements have been made about the average length of stay of Airbnb guests for a city, this was used.\n",
    "\n",
    "For example, Airbnb reported 5.5 nights as the average length of stay for guests using Airbnb in San Francisco.\n",
    "\n",
    "Where no public statements were made about average stays, a value of 3 nights per booking was used.\n",
    "\n",
    "If a listing has a higher minimum nights value than the average length of stay, the minimum nights value was used instead.\n",
    "\n",
    "The occupancy rate was capped at 70% - a relatively high, but reasonable number for a highly occupied \"hotel\".\n",
    "This controls for situations where an Airbnb host might change their minimum nights during the high season, without the review data having a chance to catch up; or for a listing with a very high review rate.\n",
    "It also ensures that the occupancy model remains conservative.\""
   ]
  },
  {
   "cell_type": "markdown",
   "metadata": {},
   "source": [
    "Occupancy rate will be detirmined based on an average length of stay in berlin of 2.4 days as per the report by Deloite from 2016. A review conversion rate of 50% has been adopted to allow for people who stay but don't leave a review.\n",
    "\n",
    "https://www2.deloitte.com/content/dam/Deloitte/de/Documents/consumer-business/Hotelmarkt_Berlin_EN_safe.pdf"
   ]
  },
  {
   "cell_type": "code",
   "execution_count": 42,
   "metadata": {
    "ExecuteTime": {
     "end_time": "2019-02-13T14:22:01.087310Z",
     "start_time": "2019-02-13T14:22:01.084364Z"
    }
   },
   "outputs": [],
   "source": [
    "conversion_rate = 0.5\n",
    "avg_len_stay = 2.4"
   ]
  },
  {
   "cell_type": "code",
   "execution_count": 43,
   "metadata": {
    "ExecuteTime": {
     "end_time": "2019-02-13T14:22:01.110731Z",
     "start_time": "2019-02-13T14:22:01.089902Z"
    }
   },
   "outputs": [],
   "source": [
    "occupancy_rate = listings_clean.reviews_per_month * avg_len_stay/conversion_rate"
   ]
  },
  {
   "cell_type": "code",
   "execution_count": 44,
   "metadata": {
    "ExecuteTime": {
     "end_time": "2019-02-13T14:22:01.119951Z",
     "start_time": "2019-02-13T14:22:01.114213Z"
    }
   },
   "outputs": [
    {
     "data": {
      "text/plain": [
       "16678"
      ]
     },
     "execution_count": 44,
     "metadata": {},
     "output_type": "execute_result"
    }
   ],
   "source": [
    "occupancy_rate.idxmax()"
   ]
  },
  {
   "cell_type": "code",
   "execution_count": 45,
   "metadata": {
    "ExecuteTime": {
     "end_time": "2019-02-13T14:22:01.127602Z",
     "start_time": "2019-02-13T14:22:01.122142Z"
    }
   },
   "outputs": [
    {
     "data": {
      "text/plain": [
       "0    18.048\n",
       "1     6.816\n",
       "2     6.000\n",
       "3     1.872\n",
       "4     8.400\n",
       "5     0.720\n",
       "6     1.104\n",
       "7     2.256\n",
       "8    13.584\n",
       "9     3.600\n",
       "Name: reviews_per_month, dtype: float64"
      ]
     },
     "execution_count": 45,
     "metadata": {},
     "output_type": "execute_result"
    }
   ],
   "source": [
    "occupancy_rate[:10]"
   ]
  },
  {
   "cell_type": "code",
   "execution_count": 46,
   "metadata": {
    "ExecuteTime": {
     "end_time": "2019-02-13T14:22:01.144810Z",
     "start_time": "2019-02-13T14:22:01.130879Z"
    }
   },
   "outputs": [
    {
     "data": {
      "text/plain": [
       "listing_url             https://www.airbnb.com/rooms/26970536\n",
       "number_of_reviews                                          88\n",
       "last_to_first_review                         71 days 00:00:00\n",
       "Name: 16678, dtype: object"
      ]
     },
     "execution_count": 46,
     "metadata": {},
     "output_type": "execute_result"
    }
   ],
   "source": [
    "listings_clean[['listing_url', 'number_of_reviews', 'last_to_first_review']].loc[occupancy_rate.idxmax()]"
   ]
  },
  {
   "cell_type": "markdown",
   "metadata": {},
   "source": [
    "There is an issue here where there are more reviews than the number number of days between the first and last review. people may be reviewing the wrong property, there may be multiple rooms with the same listing, or people are only staying for one night. \n",
    "\n",
    "Reviews can be left up to 14 days after checkout so there could be more reviews than days, although in the above case there are still too many reviews.  "
   ]
  },
  {
   "cell_type": "code",
   "execution_count": 47,
   "metadata": {
    "ExecuteTime": {
     "end_time": "2019-02-13T14:22:01.157181Z",
     "start_time": "2019-02-13T14:22:01.148000Z"
    }
   },
   "outputs": [
    {
     "data": {
      "text/plain": [
       "303     30.192\n",
       "438     30.864\n",
       "1555    31.776\n",
       "1628    30.144\n",
       "1955    30.768\n",
       "1956    30.480\n",
       "2011    31.776\n",
       "2066    81.648\n",
       "2233    30.144\n",
       "3143    31.488\n",
       "3291    30.576\n",
       "3386    37.248\n",
       "3729    33.552\n",
       "3941    33.024\n",
       "4010    31.968\n",
       "4239    38.784\n",
       "4338    31.296\n",
       "4561    30.768\n",
       "4598    34.272\n",
       "4606    33.072\n",
       "Name: reviews_per_month, dtype: float64"
      ]
     },
     "execution_count": 47,
     "metadata": {},
     "output_type": "execute_result"
    }
   ],
   "source": [
    "occupancy_rate[occupancy_rate>30][:20]"
   ]
  },
  {
   "cell_type": "code",
   "execution_count": 48,
   "metadata": {
    "ExecuteTime": {
     "end_time": "2019-02-13T14:22:01.165896Z",
     "start_time": "2019-02-13T14:22:01.160348Z"
    }
   },
   "outputs": [
    {
     "data": {
      "text/plain": [
       "253"
      ]
     },
     "execution_count": 48,
     "metadata": {},
     "output_type": "execute_result"
    }
   ],
   "source": [
    "occupancy_rate[occupancy_rate>30].count()"
   ]
  },
  {
   "cell_type": "markdown",
   "metadata": {},
   "source": [
    "There are 253 listings with an occupancy rate greater than 30. looking at the listings it appears that this is because of the review conversion rate of 50%. I will restrict the occupancy rate to 30."
   ]
  },
  {
   "cell_type": "code",
   "execution_count": 49,
   "metadata": {
    "ExecuteTime": {
     "end_time": "2019-02-13T14:22:01.170696Z",
     "start_time": "2019-02-13T14:22:01.167952Z"
    }
   },
   "outputs": [],
   "source": [
    "list_min = listings_clean.minimum_nights"
   ]
  },
  {
   "cell_type": "code",
   "execution_count": 50,
   "metadata": {
    "ExecuteTime": {
     "end_time": "2019-02-13T14:22:01.178285Z",
     "start_time": "2019-02-13T14:22:01.172598Z"
    }
   },
   "outputs": [
    {
     "data": {
      "text/plain": [
       "0     4\n",
       "1     2\n",
       "2    62\n",
       "3     5\n",
       "4     2\n",
       "5     6\n",
       "6    90\n",
       "7    60\n",
       "8     3\n",
       "9     3\n",
       "Name: minimum_nights, dtype: int64"
      ]
     },
     "execution_count": 50,
     "metadata": {},
     "output_type": "execute_result"
    }
   ],
   "source": [
    "list_min[:10]"
   ]
  },
  {
   "cell_type": "code",
   "execution_count": 51,
   "metadata": {
    "ExecuteTime": {
     "end_time": "2019-02-13T14:22:01.576523Z",
     "start_time": "2019-02-13T14:22:01.180226Z"
    }
   },
   "outputs": [],
   "source": [
    "occupancy_rate = pd.Series([(x* avg_len_stay/conversion_rate)\n",
    "                  if x>=list_min[i] \n",
    "                  else x* list_min[i]/conversion_rate\n",
    "                  for i,x \n",
    "                  in listings_clean.reviews_per_month.iteritems()])"
   ]
  },
  {
   "cell_type": "code",
   "execution_count": 52,
   "metadata": {
    "ExecuteTime": {
     "end_time": "2019-02-13T14:22:01.584492Z",
     "start_time": "2019-02-13T14:22:01.578369Z"
    }
   },
   "outputs": [
    {
     "data": {
      "text/plain": [
       "0     30.08\n",
       "1      5.68\n",
       "2    155.00\n",
       "3      3.90\n",
       "4      7.00\n",
       "5      1.80\n",
       "6     41.40\n",
       "7     56.40\n",
       "8     16.98\n",
       "9      4.50\n",
       "dtype: float64"
      ]
     },
     "execution_count": 52,
     "metadata": {},
     "output_type": "execute_result"
    }
   ],
   "source": [
    "occupancy_rate[:10]"
   ]
  },
  {
   "cell_type": "code",
   "execution_count": 53,
   "metadata": {
    "ExecuteTime": {
     "end_time": "2019-02-13T14:22:01.591723Z",
     "start_time": "2019-02-13T14:22:01.586578Z"
    }
   },
   "outputs": [
    {
     "data": {
      "text/plain": [
       "1000.0"
      ]
     },
     "execution_count": 53,
     "metadata": {},
     "output_type": "execute_result"
    }
   ],
   "source": [
    "occupancy_rate.max()"
   ]
  },
  {
   "cell_type": "code",
   "execution_count": 54,
   "metadata": {
    "ExecuteTime": {
     "end_time": "2019-02-13T14:22:01.608797Z",
     "start_time": "2019-02-13T14:22:01.594141Z"
    }
   },
   "outputs": [
    {
     "data": {
      "text/plain": [
       "count    18037.000000\n",
       "mean         9.848223\n",
       "std         31.209976\n",
       "min          0.040000\n",
       "25%          1.080000\n",
       "50%          3.800000\n",
       "75%         10.848000\n",
       "max       1000.000000\n",
       "dtype: float64"
      ]
     },
     "execution_count": 54,
     "metadata": {},
     "output_type": "execute_result"
    }
   ],
   "source": [
    "occupancy_rate.describe()"
   ]
  },
  {
   "cell_type": "code",
   "execution_count": 55,
   "metadata": {
    "ExecuteTime": {
     "end_time": "2019-02-13T14:22:01.621349Z",
     "start_time": "2019-02-13T14:22:01.611715Z"
    }
   },
   "outputs": [
    {
     "data": {
      "text/plain": [
       "listing_url             https://www.airbnb.com/rooms/41306\n",
       "number_of_reviews                                        1\n",
       "last_to_first_review                       0 days 00:00:00\n",
       "Name: 31, dtype: object"
      ]
     },
     "execution_count": 55,
     "metadata": {},
     "output_type": "execute_result"
    }
   ],
   "source": [
    "listings_clean[['listing_url', 'number_of_reviews', 'last_to_first_review']].loc[occupancy_rate.idxmin()]"
   ]
  },
  {
   "cell_type": "code",
   "execution_count": 56,
   "metadata": {
    "ExecuteTime": {
     "end_time": "2019-02-13T14:22:01.857762Z",
     "start_time": "2019-02-13T14:22:01.623028Z"
    }
   },
   "outputs": [
    {
     "data": {
      "image/png": "[encoded data removed]",
      "text/plain": [
       "<Figure size 432x288 with 1 Axes>"
      ]
     },
     "metadata": {
      "image/png": {
       "height": 260,
       "width": 425
      },
      "needs_background": "light"
     },
     "output_type": "display_data"
    }
   ],
   "source": [
    "sns.distplot(occupancy_rate, bins=20,kde=False, axlabel='Average Days occupied per month');"
   ]
  },
  {
   "cell_type": "code",
   "execution_count": 57,
   "metadata": {
    "ExecuteTime": {
     "end_time": "2019-02-13T14:22:02.118050Z",
     "start_time": "2019-02-13T14:22:01.859414Z"
    }
   },
   "outputs": [
    {
     "name": "stderr",
     "output_type": "stream",
     "text": [
      "/anaconda3/lib/python3.6/site-packages/scipy/stats/stats.py:1713: FutureWarning: Using a non-tuple sequence for multidimensional indexing is deprecated; use `arr[tuple(seq)]` instead of `arr[seq]`. In the future this will be interpreted as an array index, `arr[np.array(seq)]`, which will result either in an error or a different result.\n",
      "  return np.add.reduce(sorted[indexer] * weights, axis=axis) / sumval\n"
     ]
    },
    {
     "data": {
      "image/png": "[encoded data removed]",
      "text/plain": [
       "<Figure size 432x288 with 1 Axes>"
      ]
     },
     "metadata": {
      "image/png": {
       "height": 260,
       "width": 419
      },
      "needs_background": "light"
     },
     "output_type": "display_data"
    }
   ],
   "source": [
    "sns.distplot(listings_clean.price,kde=False,axlabel = 'Price per night');"
   ]
  },
  {
   "cell_type": "code",
   "execution_count": 58,
   "metadata": {
    "ExecuteTime": {
     "end_time": "2019-02-13T14:22:02.200895Z",
     "start_time": "2019-02-13T14:22:02.120693Z"
    }
   },
   "outputs": [
    {
     "data": {
      "text/html": [
       "<div>\n",
       "<style scoped>\n",
       "    .dataframe tbody tr th:only-of-type {\n",
       "        vertical-align: middle;\n",
       "    }\n",
       "\n",
       "    .dataframe tbody tr th {\n",
       "        vertical-align: top;\n",
       "    }\n",
       "\n",
       "    .dataframe thead th {\n",
       "        text-align: right;\n",
       "    }\n",
       "</style>\n",
       "<table border=\"1\" class=\"dataframe\">\n",
       "  <thead>\n",
       "    <tr style=\"text-align: right;\">\n",
       "      <th></th>\n",
       "      <th>index</th>\n",
       "      <th>id</th>\n",
       "      <th>listing_url</th>\n",
       "      <th>name</th>\n",
       "      <th>summary</th>\n",
       "      <th>space</th>\n",
       "      <th>description</th>\n",
       "      <th>neighborhood_overview</th>\n",
       "      <th>notes</th>\n",
       "      <th>transit</th>\n",
       "      <th>access</th>\n",
       "      <th>interaction</th>\n",
       "      <th>house_rules</th>\n",
       "      <th>host_id</th>\n",
       "      <th>host_is_superhost</th>\n",
       "      <th>host_total_listings_count</th>\n",
       "      <th>host_verifications</th>\n",
       "      <th>neighbourhood_group_cleansed</th>\n",
       "      <th>latitude</th>\n",
       "      <th>longitude</th>\n",
       "      <th>property_type</th>\n",
       "      <th>room_type</th>\n",
       "      <th>accommodates</th>\n",
       "      <th>bathrooms</th>\n",
       "      <th>bedrooms</th>\n",
       "      <th>beds</th>\n",
       "      <th>bed_type</th>\n",
       "      <th>amenities</th>\n",
       "      <th>price</th>\n",
       "      <th>security_deposit</th>\n",
       "      <th>cleaning_fee</th>\n",
       "      <th>guests_included</th>\n",
       "      <th>extra_people</th>\n",
       "      <th>minimum_nights</th>\n",
       "      <th>maximum_nights</th>\n",
       "      <th>has_availability</th>\n",
       "      <th>availability_30</th>\n",
       "      <th>availability_60</th>\n",
       "      <th>availability_90</th>\n",
       "      <th>availability_365</th>\n",
       "      <th>number_of_reviews</th>\n",
       "      <th>first_review</th>\n",
       "      <th>last_review</th>\n",
       "      <th>review_scores_rating</th>\n",
       "      <th>review_scores_accuracy</th>\n",
       "      <th>review_scores_cleanliness</th>\n",
       "      <th>review_scores_checkin</th>\n",
       "      <th>review_scores_communication</th>\n",
       "      <th>review_scores_location</th>\n",
       "      <th>review_scores_value</th>\n",
       "      <th>instant_bookable</th>\n",
       "      <th>is_business_travel_ready</th>\n",
       "      <th>cancellation_policy</th>\n",
       "      <th>require_guest_profile_picture</th>\n",
       "      <th>require_guest_phone_verification</th>\n",
       "      <th>reviews_per_month</th>\n",
       "      <th>last_to_first_review</th>\n",
       "    </tr>\n",
       "  </thead>\n",
       "  <tbody>\n",
       "    <tr>\n",
       "      <th>4888</th>\n",
       "      <td>5764</td>\n",
       "      <td>8216321</td>\n",
       "      <td>https://www.airbnb.com/rooms/8216321</td>\n",
       "      <td>Feelhome Berlin</td>\n",
       "      <td>Lightened big flat with a balcony which gives ...</td>\n",
       "      <td>Nealry 100 squaremeter ligthened apartment wit...</td>\n",
       "      <td>Lightened big flat with a balcony which gives ...</td>\n",
       "      <td>You'll stay in the artsy fartsy center in berl...</td>\n",
       "      <td></td>\n",
       "      <td>The public transports here are super nice and ...</td>\n",
       "      <td>Beside the music/producing room you can use ev...</td>\n",
       "      <td>If you have questions I'll be there for you wh...</td>\n",
       "      <td>Be nice, so I'm nice too. :)</td>\n",
       "      <td>37400612</td>\n",
       "      <td>0.0</td>\n",
       "      <td>1.0</td>\n",
       "      <td>['email', 'phone']</td>\n",
       "      <td>Friedrichshain-Kreuzberg</td>\n",
       "      <td>52.513417</td>\n",
       "      <td>13.450657</td>\n",
       "      <td>Apartment</td>\n",
       "      <td>Entire home/apt</td>\n",
       "      <td>3</td>\n",
       "      <td>1.0</td>\n",
       "      <td>2.0</td>\n",
       "      <td>2.0</td>\n",
       "      <td>Real Bed</td>\n",
       "      <td>{TV,\"Cable TV\",Internet,Wifi,\"Air conditioning...</td>\n",
       "      <td>70.0</td>\n",
       "      <td>0.0</td>\n",
       "      <td>20.0</td>\n",
       "      <td>1</td>\n",
       "      <td>20.0</td>\n",
       "      <td>1</td>\n",
       "      <td>3</td>\n",
       "      <td>1</td>\n",
       "      <td>0</td>\n",
       "      <td>0</td>\n",
       "      <td>0</td>\n",
       "      <td>0</td>\n",
       "      <td>4</td>\n",
       "      <td>2015-09-10</td>\n",
       "      <td>2015-11-02</td>\n",
       "      <td>20.0</td>\n",
       "      <td>2.0</td>\n",
       "      <td>2.0</td>\n",
       "      <td>2.0</td>\n",
       "      <td>2.0</td>\n",
       "      <td>2.0</td>\n",
       "      <td>2.0</td>\n",
       "      <td>1</td>\n",
       "      <td>0</td>\n",
       "      <td>flexible</td>\n",
       "      <td>0</td>\n",
       "      <td>0</td>\n",
       "      <td>0.10</td>\n",
       "      <td>53 days</td>\n",
       "    </tr>\n",
       "    <tr>\n",
       "      <th>11064</th>\n",
       "      <td>13305</td>\n",
       "      <td>19385418</td>\n",
       "      <td>https://www.airbnb.com/rooms/19385418</td>\n",
       "      <td>Schönes zimmer für max. 2 personen</td>\n",
       "      <td>Cosy appartement with kitchen, bathroom and sl...</td>\n",
       "      <td></td>\n",
       "      <td>Cosy appartement with kitchen, bathroom and sl...</td>\n",
       "      <td></td>\n",
       "      <td>One room of my appartment is rent to someone a...</td>\n",
       "      <td>Close to the train station Julius Leber Brücke...</td>\n",
       "      <td>The rentable room is in a two-room-appartment.</td>\n",
       "      <td>Per (Hidden by Airbnb) + (Phone number hidden ...</td>\n",
       "      <td>The price is for one person and one night ! Fo...</td>\n",
       "      <td>135890457</td>\n",
       "      <td>0.0</td>\n",
       "      <td>1.0</td>\n",
       "      <td>['email', 'phone', 'facebook']</td>\n",
       "      <td>Tempelhof - Schöneberg</td>\n",
       "      <td>52.480884</td>\n",
       "      <td>13.359114</td>\n",
       "      <td>Apartment</td>\n",
       "      <td>Private room</td>\n",
       "      <td>2</td>\n",
       "      <td>1.0</td>\n",
       "      <td>1.0</td>\n",
       "      <td>2.0</td>\n",
       "      <td>Real Bed</td>\n",
       "      <td>{TV,Wifi,Kitchen,\"Smoking allowed\",\"Pets allow...</td>\n",
       "      <td>26.0</td>\n",
       "      <td>200.0</td>\n",
       "      <td>20.0</td>\n",
       "      <td>1</td>\n",
       "      <td>55.0</td>\n",
       "      <td>1</td>\n",
       "      <td>30</td>\n",
       "      <td>1</td>\n",
       "      <td>30</td>\n",
       "      <td>60</td>\n",
       "      <td>90</td>\n",
       "      <td>90</td>\n",
       "      <td>2</td>\n",
       "      <td>2017-06-26</td>\n",
       "      <td>2018-07-03</td>\n",
       "      <td>20.0</td>\n",
       "      <td>2.0</td>\n",
       "      <td>4.0</td>\n",
       "      <td>2.0</td>\n",
       "      <td>8.0</td>\n",
       "      <td>6.0</td>\n",
       "      <td>2.0</td>\n",
       "      <td>0</td>\n",
       "      <td>0</td>\n",
       "      <td>flexible</td>\n",
       "      <td>0</td>\n",
       "      <td>0</td>\n",
       "      <td>0.12</td>\n",
       "      <td>372 days</td>\n",
       "    </tr>\n",
       "    <tr>\n",
       "      <th>15880</th>\n",
       "      <td>19280</td>\n",
       "      <td>25532256</td>\n",
       "      <td>https://www.airbnb.com/rooms/25532256</td>\n",
       "      <td>Beautiful studio with garden &amp; Wifi</td>\n",
       "      <td>This studio, located in Berlin, is ideal for 4...</td>\n",
       "      <td>This studio, located in Berlin, is ideal for 4...</td>\n",
       "      <td>This studio, located in Berlin, is ideal for 4...</td>\n",
       "      <td>This studio enjoys a privileged location that ...</td>\n",
       "      <td>WE LOVE • The large garden • The Wifi connecti...</td>\n",
       "      <td>How to get there : • Air: Berlin - Tagel airpo...</td>\n",
       "      <td></td>\n",
       "      <td></td>\n",
       "      <td></td>\n",
       "      <td>31898183</td>\n",
       "      <td>0.0</td>\n",
       "      <td>378.0</td>\n",
       "      <td>['email', 'phone', 'reviews', 'manual_offline'...</td>\n",
       "      <td>Spandau</td>\n",
       "      <td>52.535418</td>\n",
       "      <td>13.184281</td>\n",
       "      <td>Apartment</td>\n",
       "      <td>Entire home/apt</td>\n",
       "      <td>4</td>\n",
       "      <td>1.0</td>\n",
       "      <td>0.0</td>\n",
       "      <td>2.0</td>\n",
       "      <td>Real Bed</td>\n",
       "      <td>{Internet,Wifi,Kitchen,\"Pets allowed\",Heating,...</td>\n",
       "      <td>87.0</td>\n",
       "      <td>100.0</td>\n",
       "      <td>0.0</td>\n",
       "      <td>1</td>\n",
       "      <td>0.0</td>\n",
       "      <td>2</td>\n",
       "      <td>1125</td>\n",
       "      <td>1</td>\n",
       "      <td>0</td>\n",
       "      <td>0</td>\n",
       "      <td>0</td>\n",
       "      <td>95</td>\n",
       "      <td>2</td>\n",
       "      <td>2018-06-13</td>\n",
       "      <td>2018-08-05</td>\n",
       "      <td>20.0</td>\n",
       "      <td>2.0</td>\n",
       "      <td>2.0</td>\n",
       "      <td>2.0</td>\n",
       "      <td>2.0</td>\n",
       "      <td>2.0</td>\n",
       "      <td>2.0</td>\n",
       "      <td>1</td>\n",
       "      <td>0</td>\n",
       "      <td>strict_14_with_grace_period</td>\n",
       "      <td>0</td>\n",
       "      <td>0</td>\n",
       "      <td>0.41</td>\n",
       "      <td>53 days</td>\n",
       "    </tr>\n",
       "    <tr>\n",
       "      <th>5555</th>\n",
       "      <td>6626</td>\n",
       "      <td>9606268</td>\n",
       "      <td>https://www.airbnb.com/rooms/9606268</td>\n",
       "      <td>ruhige 2-Raum-Wohnung in F`hain</td>\n",
       "      <td>Hallo liebe Suchende, ich biete euch eine 2-Ra...</td>\n",
       "      <td></td>\n",
       "      <td>Hallo liebe Suchende, ich biete euch eine 2-Ra...</td>\n",
       "      <td></td>\n",
       "      <td></td>\n",
       "      <td></td>\n",
       "      <td></td>\n",
       "      <td></td>\n",
       "      <td></td>\n",
       "      <td>49706106</td>\n",
       "      <td>0.0</td>\n",
       "      <td>1.0</td>\n",
       "      <td>['email', 'phone']</td>\n",
       "      <td>Friedrichshain-Kreuzberg</td>\n",
       "      <td>52.511299</td>\n",
       "      <td>13.474015</td>\n",
       "      <td>Apartment</td>\n",
       "      <td>Entire home/apt</td>\n",
       "      <td>2</td>\n",
       "      <td>1.0</td>\n",
       "      <td>1.0</td>\n",
       "      <td>1.0</td>\n",
       "      <td>Real Bed</td>\n",
       "      <td>{Kitchen,\"Pets allowed\",\"Buzzer/wireless inter...</td>\n",
       "      <td>25.0</td>\n",
       "      <td>0.0</td>\n",
       "      <td>0.0</td>\n",
       "      <td>1</td>\n",
       "      <td>0.0</td>\n",
       "      <td>1</td>\n",
       "      <td>1125</td>\n",
       "      <td>1</td>\n",
       "      <td>0</td>\n",
       "      <td>0</td>\n",
       "      <td>0</td>\n",
       "      <td>0</td>\n",
       "      <td>1</td>\n",
       "      <td>2015-11-27</td>\n",
       "      <td>2015-11-27</td>\n",
       "      <td>20.0</td>\n",
       "      <td>4.0</td>\n",
       "      <td>4.0</td>\n",
       "      <td>6.0</td>\n",
       "      <td>2.0</td>\n",
       "      <td>6.0</td>\n",
       "      <td>2.0</td>\n",
       "      <td>0</td>\n",
       "      <td>0</td>\n",
       "      <td>flexible</td>\n",
       "      <td>0</td>\n",
       "      <td>0</td>\n",
       "      <td>0.03</td>\n",
       "      <td>0 days</td>\n",
       "    </tr>\n",
       "    <tr>\n",
       "      <th>6147</th>\n",
       "      <td>7462</td>\n",
       "      <td>10940863</td>\n",
       "      <td>https://www.airbnb.com/rooms/10940863</td>\n",
       "      <td>Designer's Flat Kreuzberg</td>\n",
       "      <td>Hey everybody, i do will rent out a room in my...</td>\n",
       "      <td></td>\n",
       "      <td>Hey everybody, i do will rent out a room in my...</td>\n",
       "      <td></td>\n",
       "      <td></td>\n",
       "      <td></td>\n",
       "      <td></td>\n",
       "      <td></td>\n",
       "      <td></td>\n",
       "      <td>19429204</td>\n",
       "      <td>0.0</td>\n",
       "      <td>1.0</td>\n",
       "      <td>['email', 'phone', 'reviews', 'jumio', 'govern...</td>\n",
       "      <td>Friedrichshain-Kreuzberg</td>\n",
       "      <td>52.487035</td>\n",
       "      <td>13.385466</td>\n",
       "      <td>Apartment</td>\n",
       "      <td>Private room</td>\n",
       "      <td>2</td>\n",
       "      <td>1.0</td>\n",
       "      <td>1.0</td>\n",
       "      <td>1.0</td>\n",
       "      <td>Real Bed</td>\n",
       "      <td>{Internet,Wifi,Kitchen,\"Pets allowed\",\"Buzzer/...</td>\n",
       "      <td>25.0</td>\n",
       "      <td>0.0</td>\n",
       "      <td>0.0</td>\n",
       "      <td>1</td>\n",
       "      <td>10.0</td>\n",
       "      <td>1</td>\n",
       "      <td>1125</td>\n",
       "      <td>1</td>\n",
       "      <td>0</td>\n",
       "      <td>0</td>\n",
       "      <td>0</td>\n",
       "      <td>0</td>\n",
       "      <td>1</td>\n",
       "      <td>2016-02-18</td>\n",
       "      <td>2016-02-18</td>\n",
       "      <td>20.0</td>\n",
       "      <td>6.0</td>\n",
       "      <td>4.0</td>\n",
       "      <td>2.0</td>\n",
       "      <td>2.0</td>\n",
       "      <td>8.0</td>\n",
       "      <td>6.0</td>\n",
       "      <td>0</td>\n",
       "      <td>0</td>\n",
       "      <td>flexible</td>\n",
       "      <td>0</td>\n",
       "      <td>0</td>\n",
       "      <td>0.03</td>\n",
       "      <td>0 days</td>\n",
       "    </tr>\n",
       "  </tbody>\n",
       "</table>\n",
       "</div>"
      ],
      "text/plain": [
       "       index        id                            listing_url                                 name                                            summary                                              space                                        description                              neighborhood_overview                                              notes                                            transit                                             access                                        interaction                                        house_rules    host_id  host_is_superhost  host_total_listings_count                                 host_verifications neighbourhood_group_cleansed   latitude  longitude property_type        room_type  accommodates  bathrooms  bedrooms  beds  bed_type                                          amenities  price  security_deposit  cleaning_fee  guests_included  extra_people  minimum_nights  maximum_nights  has_availability  availability_30  availability_60  availability_90  availability_365  number_of_reviews first_review last_review  review_scores_rating  review_scores_accuracy  review_scores_cleanliness  review_scores_checkin  review_scores_communication  review_scores_location  review_scores_value  instant_bookable  is_business_travel_ready          cancellation_policy  require_guest_profile_picture  require_guest_phone_verification  reviews_per_month last_to_first_review\n",
       "4888    5764   8216321   https://www.airbnb.com/rooms/8216321                      Feelhome Berlin  Lightened big flat with a balcony which gives ...  Nealry 100 squaremeter ligthened apartment wit...  Lightened big flat with a balcony which gives ...  You'll stay in the artsy fartsy center in berl...                                                     The public transports here are super nice and ...  Beside the music/producing room you can use ev...  If you have questions I'll be there for you wh...                       Be nice, so I'm nice too. :)   37400612                0.0                        1.0                                 ['email', 'phone']     Friedrichshain-Kreuzberg  52.513417  13.450657     Apartment  Entire home/apt             3        1.0       2.0   2.0  Real Bed  {TV,\"Cable TV\",Internet,Wifi,\"Air conditioning...   70.0               0.0          20.0                1          20.0               1               3                 1                0                0                0                 0                  4   2015-09-10  2015-11-02                  20.0                     2.0                        2.0                    2.0                          2.0                     2.0                  2.0                 1                         0                     flexible                              0                                 0               0.10              53 days\n",
       "11064  13305  19385418  https://www.airbnb.com/rooms/19385418   Schönes zimmer für max. 2 personen  Cosy appartement with kitchen, bathroom and sl...                                                     Cosy appartement with kitchen, bathroom and sl...                                                     One room of my appartment is rent to someone a...  Close to the train station Julius Leber Brücke...     The rentable room is in a two-room-appartment.  Per (Hidden by Airbnb) + (Phone number hidden ...  The price is for one person and one night ! Fo...  135890457                0.0                        1.0                     ['email', 'phone', 'facebook']       Tempelhof - Schöneberg  52.480884  13.359114     Apartment     Private room             2        1.0       1.0   2.0  Real Bed  {TV,Wifi,Kitchen,\"Smoking allowed\",\"Pets allow...   26.0             200.0          20.0                1          55.0               1              30                 1               30               60               90                90                  2   2017-06-26  2018-07-03                  20.0                     2.0                        4.0                    2.0                          8.0                     6.0                  2.0                 0                         0                     flexible                              0                                 0               0.12             372 days\n",
       "15880  19280  25532256  https://www.airbnb.com/rooms/25532256  Beautiful studio with garden & Wifi  This studio, located in Berlin, is ideal for 4...  This studio, located in Berlin, is ideal for 4...  This studio, located in Berlin, is ideal for 4...  This studio enjoys a privileged location that ...  WE LOVE • The large garden • The Wifi connecti...  How to get there : • Air: Berlin - Tagel airpo...                                                                                                                                                            31898183                0.0                      378.0  ['email', 'phone', 'reviews', 'manual_offline'...                      Spandau  52.535418  13.184281     Apartment  Entire home/apt             4        1.0       0.0   2.0  Real Bed  {Internet,Wifi,Kitchen,\"Pets allowed\",Heating,...   87.0             100.0           0.0                1           0.0               2            1125                 1                0                0                0                95                  2   2018-06-13  2018-08-05                  20.0                     2.0                        2.0                    2.0                          2.0                     2.0                  2.0                 1                         0  strict_14_with_grace_period                              0                                 0               0.41              53 days\n",
       "5555    6626   9606268   https://www.airbnb.com/rooms/9606268      ruhige 2-Raum-Wohnung in F`hain  Hallo liebe Suchende, ich biete euch eine 2-Ra...                                                     Hallo liebe Suchende, ich biete euch eine 2-Ra...                                                                                                                                                                                                                                                                                                                     49706106                0.0                        1.0                                 ['email', 'phone']     Friedrichshain-Kreuzberg  52.511299  13.474015     Apartment  Entire home/apt             2        1.0       1.0   1.0  Real Bed  {Kitchen,\"Pets allowed\",\"Buzzer/wireless inter...   25.0               0.0           0.0                1           0.0               1            1125                 1                0                0                0                 0                  1   2015-11-27  2015-11-27                  20.0                     4.0                        4.0                    6.0                          2.0                     6.0                  2.0                 0                         0                     flexible                              0                                 0               0.03               0 days\n",
       "6147    7462  10940863  https://www.airbnb.com/rooms/10940863            Designer's Flat Kreuzberg  Hey everybody, i do will rent out a room in my...                                                     Hey everybody, i do will rent out a room in my...                                                                                                                                                                                                                                                                                                                     19429204                0.0                        1.0  ['email', 'phone', 'reviews', 'jumio', 'govern...     Friedrichshain-Kreuzberg  52.487035  13.385466     Apartment     Private room             2        1.0       1.0   1.0  Real Bed  {Internet,Wifi,Kitchen,\"Pets allowed\",\"Buzzer/...   25.0               0.0           0.0                1          10.0               1            1125                 1                0                0                0                 0                  1   2016-02-18  2016-02-18                  20.0                     6.0                        4.0                    2.0                          2.0                     8.0                  6.0                 0                         0                     flexible                              0                                 0               0.03               0 days"
      ]
     },
     "execution_count": 58,
     "metadata": {},
     "output_type": "execute_result"
    }
   ],
   "source": [
    "listings_clean.sort_values(by='review_scores_rating').head()"
   ]
  },
  {
   "cell_type": "code",
   "execution_count": 59,
   "metadata": {
    "ExecuteTime": {
     "end_time": "2019-02-13T14:22:02.636205Z",
     "start_time": "2019-02-13T14:22:02.209239Z"
    }
   },
   "outputs": [
    {
     "data": {
      "image/png": "[encoded data removed]",
      "text/plain": [
       "<Figure size 432x288 with 1 Axes>"
      ]
     },
     "metadata": {
      "image/png": {
       "height": 264,
       "width": 419
      },
      "needs_background": "light"
     },
     "output_type": "display_data"
    }
   ],
   "source": [
    "sns.distplot(listings_clean.review_scores_rating,kde=False);"
   ]
  },
  {
   "cell_type": "code",
   "execution_count": 60,
   "metadata": {
    "ExecuteTime": {
     "end_time": "2019-02-13T14:22:03.324791Z",
     "start_time": "2019-02-13T14:22:02.638218Z"
    }
   },
   "outputs": [
    {
     "data": {
      "image/png": "[encoded data removed]",
      "text/plain": [
       "<Figure size 432x432 with 3 Axes>"
      ]
     },
     "metadata": {
      "image/png": {
       "height": 423,
       "width": 450
      },
      "needs_background": "light"
     },
     "output_type": "display_data"
    }
   ],
   "source": [
    "sns.jointplot(x = listings_clean.review_scores_rating,y=occupancy_rate).set_axis_labels(\"Review Score\",\"Occupancy Rate\")\n",
    "plt.show()\n"
   ]
  },
  {
   "cell_type": "code",
   "execution_count": 61,
   "metadata": {
    "ExecuteTime": {
     "end_time": "2019-02-13T14:22:03.340465Z",
     "start_time": "2019-02-13T14:22:03.327376Z"
    },
    "scrolled": true
   },
   "outputs": [],
   "source": [
    "listings_clean.drop(columns='index',inplace=True)"
   ]
  },
  {
   "cell_type": "markdown",
   "metadata": {},
   "source": [
    "### The listings"
   ]
  },
  {
   "cell_type": "code",
   "execution_count": 62,
   "metadata": {
    "ExecuteTime": {
     "end_time": "2019-02-13T14:22:03.348038Z",
     "start_time": "2019-02-13T14:22:03.343069Z"
    }
   },
   "outputs": [],
   "source": [
    "listings_clean['occupancy_rate']=occupancy_rate\n"
   ]
  },
  {
   "cell_type": "code",
   "execution_count": 63,
   "metadata": {
    "ExecuteTime": {
     "end_time": "2019-02-13T14:22:03.401637Z",
     "start_time": "2019-02-13T14:22:03.349731Z"
    }
   },
   "outputs": [
    {
     "data": {
      "text/html": [
       "<div>\n",
       "<style scoped>\n",
       "    .dataframe tbody tr th:only-of-type {\n",
       "        vertical-align: middle;\n",
       "    }\n",
       "\n",
       "    .dataframe tbody tr th {\n",
       "        vertical-align: top;\n",
       "    }\n",
       "\n",
       "    .dataframe thead th {\n",
       "        text-align: right;\n",
       "    }\n",
       "</style>\n",
       "<table border=\"1\" class=\"dataframe\">\n",
       "  <thead>\n",
       "    <tr style=\"text-align: right;\">\n",
       "      <th></th>\n",
       "      <th>id</th>\n",
       "      <th>listing_url</th>\n",
       "      <th>name</th>\n",
       "      <th>summary</th>\n",
       "      <th>space</th>\n",
       "      <th>description</th>\n",
       "      <th>neighborhood_overview</th>\n",
       "      <th>notes</th>\n",
       "      <th>transit</th>\n",
       "      <th>access</th>\n",
       "      <th>interaction</th>\n",
       "      <th>house_rules</th>\n",
       "      <th>host_id</th>\n",
       "      <th>host_is_superhost</th>\n",
       "      <th>host_total_listings_count</th>\n",
       "      <th>host_verifications</th>\n",
       "      <th>neighbourhood_group_cleansed</th>\n",
       "      <th>latitude</th>\n",
       "      <th>longitude</th>\n",
       "      <th>property_type</th>\n",
       "      <th>room_type</th>\n",
       "      <th>accommodates</th>\n",
       "      <th>bathrooms</th>\n",
       "      <th>bedrooms</th>\n",
       "      <th>beds</th>\n",
       "      <th>bed_type</th>\n",
       "      <th>amenities</th>\n",
       "      <th>price</th>\n",
       "      <th>security_deposit</th>\n",
       "      <th>cleaning_fee</th>\n",
       "      <th>guests_included</th>\n",
       "      <th>extra_people</th>\n",
       "      <th>minimum_nights</th>\n",
       "      <th>maximum_nights</th>\n",
       "      <th>has_availability</th>\n",
       "      <th>availability_30</th>\n",
       "      <th>availability_60</th>\n",
       "      <th>availability_90</th>\n",
       "      <th>availability_365</th>\n",
       "      <th>number_of_reviews</th>\n",
       "      <th>first_review</th>\n",
       "      <th>last_review</th>\n",
       "      <th>review_scores_rating</th>\n",
       "      <th>review_scores_accuracy</th>\n",
       "      <th>review_scores_cleanliness</th>\n",
       "      <th>review_scores_checkin</th>\n",
       "      <th>review_scores_communication</th>\n",
       "      <th>review_scores_location</th>\n",
       "      <th>review_scores_value</th>\n",
       "      <th>instant_bookable</th>\n",
       "      <th>is_business_travel_ready</th>\n",
       "      <th>cancellation_policy</th>\n",
       "      <th>require_guest_profile_picture</th>\n",
       "      <th>require_guest_phone_verification</th>\n",
       "      <th>reviews_per_month</th>\n",
       "      <th>last_to_first_review</th>\n",
       "      <th>occupancy_rate</th>\n",
       "    </tr>\n",
       "  </thead>\n",
       "  <tbody>\n",
       "    <tr>\n",
       "      <th>0</th>\n",
       "      <td>2015</td>\n",
       "      <td>https://www.airbnb.com/rooms/2015</td>\n",
       "      <td>Berlin-Mitte Value! Quiet courtyard/very central</td>\n",
       "      <td>Great location!  30 of 75 sq meters. This wood...</td>\n",
       "      <td>A+++ location! This „Einliegerwohnung“ is an e...</td>\n",
       "      <td>Great location!  30 of 75 sq meters. This wood...</td>\n",
       "      <td>It is located in the former East Berlin area o...</td>\n",
       "      <td>This is my home, not a hotel. I rent out occas...</td>\n",
       "      <td>Close to U-Bahn U8 and U2 (metro), Trams M12, ...</td>\n",
       "      <td>Simple kitchen/cooking, refrigerator, microwav...</td>\n",
       "      <td>Always available</td>\n",
       "      <td>No parties No events No pets No smoking, not e...</td>\n",
       "      <td>2217</td>\n",
       "      <td>1.0</td>\n",
       "      <td>4.0</td>\n",
       "      <td>['email', 'phone', 'reviews', 'jumio', 'offlin...</td>\n",
       "      <td>Mitte</td>\n",
       "      <td>52.534537</td>\n",
       "      <td>13.402557</td>\n",
       "      <td>Guesthouse</td>\n",
       "      <td>Entire home/apt</td>\n",
       "      <td>3</td>\n",
       "      <td>1.0</td>\n",
       "      <td>1.0</td>\n",
       "      <td>2.0</td>\n",
       "      <td>Real Bed</td>\n",
       "      <td>{TV,\"Cable TV\",Wifi,Kitchen,Gym,Heating,\"Famil...</td>\n",
       "      <td>60.0</td>\n",
       "      <td>200.0</td>\n",
       "      <td>30.0</td>\n",
       "      <td>1</td>\n",
       "      <td>28.0</td>\n",
       "      <td>4</td>\n",
       "      <td>1125</td>\n",
       "      <td>1</td>\n",
       "      <td>0</td>\n",
       "      <td>21</td>\n",
       "      <td>51</td>\n",
       "      <td>141</td>\n",
       "      <td>118</td>\n",
       "      <td>2016-04-11</td>\n",
       "      <td>2018-10-28</td>\n",
       "      <td>93.0</td>\n",
       "      <td>10.0</td>\n",
       "      <td>9.0</td>\n",
       "      <td>10.0</td>\n",
       "      <td>10.0</td>\n",
       "      <td>10.0</td>\n",
       "      <td>9.0</td>\n",
       "      <td>0</td>\n",
       "      <td>0</td>\n",
       "      <td>strict_14_with_grace_period</td>\n",
       "      <td>0</td>\n",
       "      <td>0</td>\n",
       "      <td>3.76</td>\n",
       "      <td>930 days</td>\n",
       "      <td>30.08</td>\n",
       "    </tr>\n",
       "    <tr>\n",
       "      <th>1</th>\n",
       "      <td>2695</td>\n",
       "      <td>https://www.airbnb.com/rooms/2695</td>\n",
       "      <td>Prenzlauer Berg close to Mauerpark</td>\n",
       "      <td></td>\n",
       "      <td>In the summertime we are spending most of our ...</td>\n",
       "      <td>In the summertime we are spending most of our ...</td>\n",
       "      <td></td>\n",
       "      <td></td>\n",
       "      <td>Within walking distance you'll find the S-Bahn...</td>\n",
       "      <td>Außer deinem Zimmer kannst du noch die Küche u...</td>\n",
       "      <td></td>\n",
       "      <td></td>\n",
       "      <td>2986</td>\n",
       "      <td>0.0</td>\n",
       "      <td>1.0</td>\n",
       "      <td>['email', 'phone', 'reviews', 'jumio', 'govern...</td>\n",
       "      <td>Pankow</td>\n",
       "      <td>52.548513</td>\n",
       "      <td>13.404553</td>\n",
       "      <td>Apartment</td>\n",
       "      <td>Private room</td>\n",
       "      <td>2</td>\n",
       "      <td>1.0</td>\n",
       "      <td>1.0</td>\n",
       "      <td>1.0</td>\n",
       "      <td>Real Bed</td>\n",
       "      <td>{Wifi,Kitchen,Elevator,Heating,Washer,Essentia...</td>\n",
       "      <td>17.0</td>\n",
       "      <td>0.0</td>\n",
       "      <td>0.0</td>\n",
       "      <td>1</td>\n",
       "      <td>0.0</td>\n",
       "      <td>2</td>\n",
       "      <td>40</td>\n",
       "      <td>1</td>\n",
       "      <td>0</td>\n",
       "      <td>0</td>\n",
       "      <td>0</td>\n",
       "      <td>0</td>\n",
       "      <td>6</td>\n",
       "      <td>2018-07-04</td>\n",
       "      <td>2018-10-01</td>\n",
       "      <td>100.0</td>\n",
       "      <td>10.0</td>\n",
       "      <td>10.0</td>\n",
       "      <td>10.0</td>\n",
       "      <td>10.0</td>\n",
       "      <td>10.0</td>\n",
       "      <td>10.0</td>\n",
       "      <td>0</td>\n",
       "      <td>0</td>\n",
       "      <td>flexible</td>\n",
       "      <td>0</td>\n",
       "      <td>0</td>\n",
       "      <td>1.42</td>\n",
       "      <td>89 days</td>\n",
       "      <td>5.68</td>\n",
       "    </tr>\n",
       "    <tr>\n",
       "      <th>2</th>\n",
       "      <td>3176</td>\n",
       "      <td>https://www.airbnb.com/rooms/3176</td>\n",
       "      <td>Fabulous Flat in great Location</td>\n",
       "      <td>This beautiful first floor apartment  is situa...</td>\n",
       "      <td>1st floor (68m2) apartment on Kollwitzplatz/ P...</td>\n",
       "      <td>This beautiful first floor apartment  is situa...</td>\n",
       "      <td>The neighbourhood is famous for its variety of...</td>\n",
       "      <td>We welcome FAMILIES and cater especially for y...</td>\n",
       "      <td>We are 5 min walk  away from the tram M2, whic...</td>\n",
       "      <td>The apartment will be entirely yours. We are c...</td>\n",
       "      <td>Feel free to ask any questions prior to bookin...</td>\n",
       "      <td>It’s a non smoking flat, which likes to be tre...</td>\n",
       "      <td>3718</td>\n",
       "      <td>0.0</td>\n",
       "      <td>1.0</td>\n",
       "      <td>['email', 'phone', 'facebook', 'reviews', 'man...</td>\n",
       "      <td>Pankow</td>\n",
       "      <td>52.534996</td>\n",
       "      <td>13.417579</td>\n",
       "      <td>Apartment</td>\n",
       "      <td>Entire home/apt</td>\n",
       "      <td>4</td>\n",
       "      <td>1.0</td>\n",
       "      <td>1.0</td>\n",
       "      <td>2.0</td>\n",
       "      <td>Real Bed</td>\n",
       "      <td>{Internet,Wifi,Kitchen,\"Buzzer/wireless interc...</td>\n",
       "      <td>90.0</td>\n",
       "      <td>200.0</td>\n",
       "      <td>50.0</td>\n",
       "      <td>2</td>\n",
       "      <td>20.0</td>\n",
       "      <td>62</td>\n",
       "      <td>1125</td>\n",
       "      <td>1</td>\n",
       "      <td>0</td>\n",
       "      <td>0</td>\n",
       "      <td>0</td>\n",
       "      <td>220</td>\n",
       "      <td>143</td>\n",
       "      <td>2009-06-20</td>\n",
       "      <td>2017-03-20</td>\n",
       "      <td>92.0</td>\n",
       "      <td>9.0</td>\n",
       "      <td>9.0</td>\n",
       "      <td>9.0</td>\n",
       "      <td>9.0</td>\n",
       "      <td>10.0</td>\n",
       "      <td>9.0</td>\n",
       "      <td>1</td>\n",
       "      <td>0</td>\n",
       "      <td>strict_14_with_grace_period</td>\n",
       "      <td>0</td>\n",
       "      <td>0</td>\n",
       "      <td>1.25</td>\n",
       "      <td>2830 days</td>\n",
       "      <td>155.00</td>\n",
       "    </tr>\n",
       "    <tr>\n",
       "      <th>3</th>\n",
       "      <td>3309</td>\n",
       "      <td>https://www.airbnb.com/rooms/3309</td>\n",
       "      <td>BerlinSpot Schöneberg near KaDeWe</td>\n",
       "      <td>First of all: I prefer short-notice bookings. ...</td>\n",
       "      <td>Your room is really big and has 26 sqm, is ver...</td>\n",
       "      <td>First of all: I prefer short-notice bookings. ...</td>\n",
       "      <td>My flat is in the middle of West-Berlin, direc...</td>\n",
       "      <td>The flat is a strictly non-smoking facility! A...</td>\n",
       "      <td>The public transportation is excellent: Severa...</td>\n",
       "      <td>I do have a strictly non-smoker-flat.  Keep th...</td>\n",
       "      <td>I'm working as a freelancing photographer. My ...</td>\n",
       "      <td>House-Rules and Information ..............(deu...</td>\n",
       "      <td>4108</td>\n",
       "      <td>0.0</td>\n",
       "      <td>1.0</td>\n",
       "      <td>['email', 'phone', 'reviews', 'jumio', 'govern...</td>\n",
       "      <td>Tempelhof - Schöneberg</td>\n",
       "      <td>52.498855</td>\n",
       "      <td>13.349065</td>\n",
       "      <td>Apartment</td>\n",
       "      <td>Private room</td>\n",
       "      <td>2</td>\n",
       "      <td>1.0</td>\n",
       "      <td>1.0</td>\n",
       "      <td>1.0</td>\n",
       "      <td>Pull-out Sofa</td>\n",
       "      <td>{Internet,Wifi,\"Pets allowed\",\"Pets live on th...</td>\n",
       "      <td>26.0</td>\n",
       "      <td>250.0</td>\n",
       "      <td>30.0</td>\n",
       "      <td>1</td>\n",
       "      <td>18.0</td>\n",
       "      <td>5</td>\n",
       "      <td>360</td>\n",
       "      <td>1</td>\n",
       "      <td>0</td>\n",
       "      <td>0</td>\n",
       "      <td>22</td>\n",
       "      <td>297</td>\n",
       "      <td>25</td>\n",
       "      <td>2013-08-12</td>\n",
       "      <td>2018-08-16</td>\n",
       "      <td>88.0</td>\n",
       "      <td>9.0</td>\n",
       "      <td>9.0</td>\n",
       "      <td>9.0</td>\n",
       "      <td>10.0</td>\n",
       "      <td>9.0</td>\n",
       "      <td>9.0</td>\n",
       "      <td>0</td>\n",
       "      <td>0</td>\n",
       "      <td>strict_14_with_grace_period</td>\n",
       "      <td>0</td>\n",
       "      <td>0</td>\n",
       "      <td>0.39</td>\n",
       "      <td>1830 days</td>\n",
       "      <td>3.90</td>\n",
       "    </tr>\n",
       "    <tr>\n",
       "      <th>4</th>\n",
       "      <td>7071</td>\n",
       "      <td>https://www.airbnb.com/rooms/7071</td>\n",
       "      <td>BrightRoom with sunny greenview!</td>\n",
       "      <td>Cozy and large room in the beautiful district ...</td>\n",
       "      <td>The BrightRoom is an approx. 20 sqm (215ft²), ...</td>\n",
       "      <td>Cozy and large room in the beautiful district ...</td>\n",
       "      <td>Great neighborhood with plenty of Cafés, Baker...</td>\n",
       "      <td>I hope you enjoy your stay to the fullest! Ple...</td>\n",
       "      <td>Best access to other parts of the city via pub...</td>\n",
       "      <td>The guests have access to the bathroom, a smal...</td>\n",
       "      <td>I am glad if I can give you advice or help as ...</td>\n",
       "      <td>Please take good care of everything during you...</td>\n",
       "      <td>17391</td>\n",
       "      <td>1.0</td>\n",
       "      <td>1.0</td>\n",
       "      <td>['email', 'phone', 'reviews', 'jumio', 'govern...</td>\n",
       "      <td>Pankow</td>\n",
       "      <td>52.543157</td>\n",
       "      <td>13.415091</td>\n",
       "      <td>Apartment</td>\n",
       "      <td>Private room</td>\n",
       "      <td>2</td>\n",
       "      <td>1.0</td>\n",
       "      <td>1.0</td>\n",
       "      <td>2.0</td>\n",
       "      <td>Real Bed</td>\n",
       "      <td>{Wifi,Heating,\"Family/kid friendly\",Essentials...</td>\n",
       "      <td>42.0</td>\n",
       "      <td>0.0</td>\n",
       "      <td>0.0</td>\n",
       "      <td>1</td>\n",
       "      <td>24.0</td>\n",
       "      <td>2</td>\n",
       "      <td>10</td>\n",
       "      <td>1</td>\n",
       "      <td>15</td>\n",
       "      <td>26</td>\n",
       "      <td>26</td>\n",
       "      <td>26</td>\n",
       "      <td>197</td>\n",
       "      <td>2009-08-18</td>\n",
       "      <td>2018-11-04</td>\n",
       "      <td>96.0</td>\n",
       "      <td>10.0</td>\n",
       "      <td>10.0</td>\n",
       "      <td>10.0</td>\n",
       "      <td>10.0</td>\n",
       "      <td>10.0</td>\n",
       "      <td>9.0</td>\n",
       "      <td>0</td>\n",
       "      <td>0</td>\n",
       "      <td>moderate</td>\n",
       "      <td>0</td>\n",
       "      <td>0</td>\n",
       "      <td>1.75</td>\n",
       "      <td>3365 days</td>\n",
       "      <td>7.00</td>\n",
       "    </tr>\n",
       "  </tbody>\n",
       "</table>\n",
       "</div>"
      ],
      "text/plain": [
       "     id                        listing_url                                              name                                            summary                                              space                                        description                              neighborhood_overview                                              notes                                            transit                                             access                                        interaction                                        house_rules  host_id  host_is_superhost  host_total_listings_count                                 host_verifications neighbourhood_group_cleansed   latitude  longitude property_type        room_type  accommodates  bathrooms  bedrooms  beds       bed_type                                          amenities  price  security_deposit  cleaning_fee  guests_included  extra_people  minimum_nights  maximum_nights  has_availability  availability_30  availability_60  availability_90  availability_365  number_of_reviews first_review last_review  review_scores_rating  review_scores_accuracy  review_scores_cleanliness  review_scores_checkin  review_scores_communication  review_scores_location  review_scores_value  instant_bookable  is_business_travel_ready          cancellation_policy  require_guest_profile_picture  require_guest_phone_verification  reviews_per_month last_to_first_review  occupancy_rate\n",
       "0  2015  https://www.airbnb.com/rooms/2015  Berlin-Mitte Value! Quiet courtyard/very central  Great location!  30 of 75 sq meters. This wood...  A+++ location! This „Einliegerwohnung“ is an e...  Great location!  30 of 75 sq meters. This wood...  It is located in the former East Berlin area o...  This is my home, not a hotel. I rent out occas...  Close to U-Bahn U8 and U2 (metro), Trams M12, ...  Simple kitchen/cooking, refrigerator, microwav...                                   Always available  No parties No events No pets No smoking, not e...     2217                1.0                        4.0  ['email', 'phone', 'reviews', 'jumio', 'offlin...                        Mitte  52.534537  13.402557    Guesthouse  Entire home/apt             3        1.0       1.0   2.0       Real Bed  {TV,\"Cable TV\",Wifi,Kitchen,Gym,Heating,\"Famil...   60.0             200.0          30.0                1          28.0               4            1125                 1                0               21               51               141                118   2016-04-11  2018-10-28                  93.0                    10.0                        9.0                   10.0                         10.0                    10.0                  9.0                 0                         0  strict_14_with_grace_period                              0                                 0               3.76             930 days           30.08\n",
       "1  2695  https://www.airbnb.com/rooms/2695                Prenzlauer Berg close to Mauerpark                                                     In the summertime we are spending most of our ...  In the summertime we are spending most of our ...                                                                                                        Within walking distance you'll find the S-Bahn...  Außer deinem Zimmer kannst du noch die Küche u...                                                                                                           2986                0.0                        1.0  ['email', 'phone', 'reviews', 'jumio', 'govern...                       Pankow  52.548513  13.404553     Apartment     Private room             2        1.0       1.0   1.0       Real Bed  {Wifi,Kitchen,Elevator,Heating,Washer,Essentia...   17.0               0.0           0.0                1           0.0               2              40                 1                0                0                0                 0                  6   2018-07-04  2018-10-01                 100.0                    10.0                       10.0                   10.0                         10.0                    10.0                 10.0                 0                         0                     flexible                              0                                 0               1.42              89 days            5.68\n",
       "2  3176  https://www.airbnb.com/rooms/3176                   Fabulous Flat in great Location  This beautiful first floor apartment  is situa...  1st floor (68m2) apartment on Kollwitzplatz/ P...  This beautiful first floor apartment  is situa...  The neighbourhood is famous for its variety of...  We welcome FAMILIES and cater especially for y...  We are 5 min walk  away from the tram M2, whic...  The apartment will be entirely yours. We are c...  Feel free to ask any questions prior to bookin...  It’s a non smoking flat, which likes to be tre...     3718                0.0                        1.0  ['email', 'phone', 'facebook', 'reviews', 'man...                       Pankow  52.534996  13.417579     Apartment  Entire home/apt             4        1.0       1.0   2.0       Real Bed  {Internet,Wifi,Kitchen,\"Buzzer/wireless interc...   90.0             200.0          50.0                2          20.0              62            1125                 1                0                0                0               220                143   2009-06-20  2017-03-20                  92.0                     9.0                        9.0                    9.0                          9.0                    10.0                  9.0                 1                         0  strict_14_with_grace_period                              0                                 0               1.25            2830 days          155.00\n",
       "3  3309  https://www.airbnb.com/rooms/3309                 BerlinSpot Schöneberg near KaDeWe  First of all: I prefer short-notice bookings. ...  Your room is really big and has 26 sqm, is ver...  First of all: I prefer short-notice bookings. ...  My flat is in the middle of West-Berlin, direc...  The flat is a strictly non-smoking facility! A...  The public transportation is excellent: Severa...  I do have a strictly non-smoker-flat.  Keep th...  I'm working as a freelancing photographer. My ...  House-Rules and Information ..............(deu...     4108                0.0                        1.0  ['email', 'phone', 'reviews', 'jumio', 'govern...       Tempelhof - Schöneberg  52.498855  13.349065     Apartment     Private room             2        1.0       1.0   1.0  Pull-out Sofa  {Internet,Wifi,\"Pets allowed\",\"Pets live on th...   26.0             250.0          30.0                1          18.0               5             360                 1                0                0               22               297                 25   2013-08-12  2018-08-16                  88.0                     9.0                        9.0                    9.0                         10.0                     9.0                  9.0                 0                         0  strict_14_with_grace_period                              0                                 0               0.39            1830 days            3.90\n",
       "4  7071  https://www.airbnb.com/rooms/7071                  BrightRoom with sunny greenview!  Cozy and large room in the beautiful district ...  The BrightRoom is an approx. 20 sqm (215ft²), ...  Cozy and large room in the beautiful district ...  Great neighborhood with plenty of Cafés, Baker...  I hope you enjoy your stay to the fullest! Ple...  Best access to other parts of the city via pub...  The guests have access to the bathroom, a smal...  I am glad if I can give you advice or help as ...  Please take good care of everything during you...    17391                1.0                        1.0  ['email', 'phone', 'reviews', 'jumio', 'govern...                       Pankow  52.543157  13.415091     Apartment     Private room             2        1.0       1.0   2.0       Real Bed  {Wifi,Heating,\"Family/kid friendly\",Essentials...   42.0               0.0           0.0                1          24.0               2              10                 1               15               26               26                26                197   2009-08-18  2018-11-04                  96.0                    10.0                       10.0                   10.0                         10.0                    10.0                  9.0                 0                         0                     moderate                              0                                 0               1.75            3365 days            7.00"
      ]
     },
     "execution_count": 63,
     "metadata": {},
     "output_type": "execute_result"
    }
   ],
   "source": [
    "listings_clean.head()"
   ]
  },
  {
   "cell_type": "code",
   "execution_count": 64,
   "metadata": {
    "ExecuteTime": {
     "end_time": "2019-02-13T14:22:05.341983Z",
     "start_time": "2019-02-13T14:22:03.405151Z"
    }
   },
   "outputs": [],
   "source": [
    "listings_clean.to_csv('./Capstone_DATA/Berlin/berlin_listing_clean.csv')"
   ]
  },
  {
   "cell_type": "markdown",
   "metadata": {},
   "source": [
    "### The Reviews"
   ]
  },
  {
   "cell_type": "code",
   "execution_count": 65,
   "metadata": {
    "ExecuteTime": {
     "end_time": "2019-02-13T14:22:05.352624Z",
     "start_time": "2019-02-13T14:22:05.344083Z"
    },
    "scrolled": true
   },
   "outputs": [
    {
     "data": {
      "text/html": [
       "<div>\n",
       "<style scoped>\n",
       "    .dataframe tbody tr th:only-of-type {\n",
       "        vertical-align: middle;\n",
       "    }\n",
       "\n",
       "    .dataframe tbody tr th {\n",
       "        vertical-align: top;\n",
       "    }\n",
       "\n",
       "    .dataframe thead th {\n",
       "        text-align: right;\n",
       "    }\n",
       "</style>\n",
       "<table border=\"1\" class=\"dataframe\">\n",
       "  <thead>\n",
       "    <tr style=\"text-align: right;\">\n",
       "      <th></th>\n",
       "      <th>listing_id</th>\n",
       "      <th>id</th>\n",
       "      <th>date</th>\n",
       "      <th>reviewer_id</th>\n",
       "      <th>reviewer_name</th>\n",
       "      <th>comments</th>\n",
       "    </tr>\n",
       "  </thead>\n",
       "  <tbody>\n",
       "    <tr>\n",
       "      <th>0</th>\n",
       "      <td>2015</td>\n",
       "      <td>69544350</td>\n",
       "      <td>2016-04-11</td>\n",
       "      <td>7178145</td>\n",
       "      <td>Rahel</td>\n",
       "      <td>Mein Freund und ich hatten gute gemütliche vie...</td>\n",
       "    </tr>\n",
       "    <tr>\n",
       "      <th>1</th>\n",
       "      <td>2015</td>\n",
       "      <td>69990732</td>\n",
       "      <td>2016-04-15</td>\n",
       "      <td>41944715</td>\n",
       "      <td>Hannah</td>\n",
       "      <td>Jan was very friendly and welcoming host! The ...</td>\n",
       "    </tr>\n",
       "    <tr>\n",
       "      <th>2</th>\n",
       "      <td>2015</td>\n",
       "      <td>71605267</td>\n",
       "      <td>2016-04-26</td>\n",
       "      <td>30048708</td>\n",
       "      <td>Victor</td>\n",
       "      <td>Un appartement tres bien situé dans un quartie...</td>\n",
       "    </tr>\n",
       "    <tr>\n",
       "      <th>3</th>\n",
       "      <td>2015</td>\n",
       "      <td>73819566</td>\n",
       "      <td>2016-05-10</td>\n",
       "      <td>63697857</td>\n",
       "      <td>Judy</td>\n",
       "      <td>It is really nice area, food, park, transport ...</td>\n",
       "    </tr>\n",
       "    <tr>\n",
       "      <th>4</th>\n",
       "      <td>2015</td>\n",
       "      <td>74293504</td>\n",
       "      <td>2016-05-14</td>\n",
       "      <td>10414887</td>\n",
       "      <td>Romina</td>\n",
       "      <td>Buena ubicación, el departamento no está orden...</td>\n",
       "    </tr>\n",
       "  </tbody>\n",
       "</table>\n",
       "</div>"
      ],
      "text/plain": [
       "   listing_id        id        date  reviewer_id reviewer_name                                           comments\n",
       "0        2015  69544350  2016-04-11      7178145         Rahel  Mein Freund und ich hatten gute gemütliche vie...\n",
       "1        2015  69990732  2016-04-15     41944715        Hannah  Jan was very friendly and welcoming host! The ...\n",
       "2        2015  71605267  2016-04-26     30048708        Victor  Un appartement tres bien situé dans un quartie...\n",
       "3        2015  73819566  2016-05-10     63697857          Judy  It is really nice area, food, park, transport ...\n",
       "4        2015  74293504  2016-05-14     10414887        Romina  Buena ubicación, el departamento no está orden..."
      ]
     },
     "execution_count": 65,
     "metadata": {},
     "output_type": "execute_result"
    }
   ],
   "source": [
    "reviews.head()"
   ]
  },
  {
   "cell_type": "markdown",
   "metadata": {},
   "source": [
    "## The Target"
   ]
  },
  {
   "cell_type": "code",
   "execution_count": 66,
   "metadata": {
    "ExecuteTime": {
     "end_time": "2019-02-13T14:22:05.366662Z",
     "start_time": "2019-02-13T14:22:05.355204Z"
    }
   },
   "outputs": [
    {
     "data": {
      "text/plain": [
       "0     30.08\n",
       "1      5.68\n",
       "2    155.00\n",
       "3      3.90\n",
       "4      7.00\n",
       "dtype: float64"
      ]
     },
     "execution_count": 66,
     "metadata": {},
     "output_type": "execute_result"
    }
   ],
   "source": [
    "occupancy_rate[:5]"
   ]
  },
  {
   "cell_type": "code",
   "execution_count": null,
   "metadata": {},
   "outputs": [],
   "source": []
  }
 ],
 "metadata": {
  "hide_input": false,
  "kernelspec": {
   "display_name": "Python 3",
   "language": "python",
   "name": "python3"
  },
  "language_info": {
   "codemirror_mode": {
    "name": "ipython",
    "version": 3
   },
   "file_extension": ".py",
   "mimetype": "text/x-python",
   "name": "python",
   "nbconvert_exporter": "python",
   "pygments_lexer": "ipython3",
   "version": "3.6.8"
  },
  "toc": {
   "base_numbering": 1,
   "nav_menu": {},
   "number_sections": false,
   "sideBar": true,
   "skip_h1_title": true,
   "title_cell": "Table of Contents",
   "title_sidebar": "Contents",
   "toc_cell": false,
   "toc_position": {},
   "toc_section_display": true,
   "toc_window_display": false
  }
 },
 "nbformat": 4,
 "nbformat_minor": 2
}
